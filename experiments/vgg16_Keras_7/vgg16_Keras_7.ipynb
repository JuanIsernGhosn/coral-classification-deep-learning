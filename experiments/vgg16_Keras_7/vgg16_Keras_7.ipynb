{
 "cells": [
  {
   "cell_type": "code",
   "execution_count": 6,
   "metadata": {
    "colab": {
     "base_uri": "https://localhost:8080/",
     "height": 34
    },
    "colab_type": "code",
    "id": "Vv25xKciEepB",
    "outputId": "50a6a271-d9ba-4870-e365-98e904176308"
   },
   "outputs": [],
   "source": [
    "data = \"../../coral_img/\""
   ]
  },
  {
   "cell_type": "code",
   "execution_count": 7,
   "metadata": {
    "colab": {
     "base_uri": "https://localhost:8080/",
     "height": 34
    },
    "colab_type": "code",
    "id": "b2ZcplHO_Uya",
    "outputId": "2e47ef51-1e83-427b-e0ea-7900865613a6"
   },
   "outputs": [],
   "source": [
    "# Imports\n",
    "import numpy as np\n",
    "import os\n",
    "import cv2\n",
    "import matplotlib.pyplot as plt\n",
    "from tensorflow.python.framework import ops\n",
    "from tensorflow.python.framework import dtypes\n",
    "import numpy\n",
    "import math\n",
    "import pandas as pd\n",
    "import os\n",
    "from keras.preprocessing.image import ImageDataGenerator\n",
    "from keras.models import Sequential, Model\n",
    "from keras.layers import Input, Dense, Dropout, Flatten, Activation, merge\n",
    "from keras.layers import Conv2D, MaxPooling2D, UpSampling2D, ZeroPadding2D, GlobalAveragePooling2D\n",
    "from keras.layers.normalization import BatchNormalization\n",
    "from keras.optimizers import SGD, Adam\n",
    "import keras.backend as K\n",
    "from natsort import natsorted, ns\n",
    "import keras\n",
    "import PIL\n",
    "from keras.regularizers import l2\n",
    "from glob import glob\n",
    "from keras.applications import vgg16\n",
    "from keras.utils import to_categorical\n",
    "from keras.callbacks import EarlyStopping\n",
    "from matplotlib import pyplot\n",
    "import tensorflow as tf\n",
    "from sklearn.model_selection import train_test_split\n",
    "\n",
    "config = tf.ConfigProto()\n",
    "config.gpu_options.allow_growth = True\n",
    "sess = tf.Session(config=config)"
   ]
  },
  {
   "cell_type": "code",
   "execution_count": 8,
   "metadata": {},
   "outputs": [],
   "source": [
    "def brightness_fix(img):\n",
    "    img_blur = cv2.GaussianBlur(img, (5, 5), 0)\n",
    "    img_RGB = cv2.cvtColor(img_blur, cv2.COLOR_BGR2RGB)\n",
    "    img_YCrCb = cv2.cvtColor(img_RGB, cv2.COLOR_RGB2YCrCb)\n",
    "    \n",
    "    clahe = cv2.createCLAHE(clipLimit=2.0, tileGridSize=(16,16))\n",
    "    cl1 = clahe.apply(img_YCrCb[:,:,0])\n",
    "    \n",
    "    img_YCrCb[:,:,0] = cl1 \n",
    "    \n",
    "    img_RGB_2 = cv2.cvtColor(img_YCrCb, cv2.COLOR_YCrCb2RGB)\n",
    "    \n",
    "    return img_RGB_2"
   ]
  },
  {
   "cell_type": "code",
   "execution_count": 9,
   "metadata": {
    "colab": {},
    "colab_type": "code",
    "id": "ZQEB9usCecLE"
   },
   "outputs": [],
   "source": [
    "# Fijar las semillas\n",
    "seed = 2032 # Semilla del numpy\n",
    "tf.set_random_seed(seed)# Fijar semilla del keras/tensorflow\n",
    "\n",
    "epochs = 1000\n",
    "batch_size = 32\n",
    "\n",
    "model_name = 'model.h5'"
   ]
  },
  {
   "cell_type": "code",
   "execution_count": 10,
   "metadata": {
    "colab": {},
    "colab_type": "code",
    "id": "p_NqWAC0CL7-"
   },
   "outputs": [],
   "source": [
    "# Train and test directories\n",
    "train_dir = data + \"train/\"\n",
    "test_dir = data + \"Test_Mixed/\""
   ]
  },
  {
   "cell_type": "code",
   "execution_count": 11,
   "metadata": {
    "colab": {
     "base_uri": "https://localhost:8080/",
     "height": 34
    },
    "colab_type": "code",
    "id": "o7HiUjB1e8Cz",
    "outputId": "0696640c-384d-4964-cffd-356fe2b30582"
   },
   "outputs": [
    {
     "name": "stdout",
     "output_type": "stream",
     "text": [
      "['ACER', 'APAL', 'CNAT', 'DANT', 'DSTR', 'GORG', 'MALC', 'MCAV', 'MMEA', 'MONT', 'PALY', 'SPO', 'SSID', 'TUNI']\n"
     ]
    }
   ],
   "source": [
    "# Classes\n",
    "clases = sorted(os.listdir(train_dir))\n",
    "print(clases)\n",
    "\n",
    "x_train = np.array([brightness_fix(cv2.imread(os.path.join(train_dir, cl, name), cv2.IMREAD_COLOR)) for cl in clases\n",
    "           for name in os.listdir(os.path.join(train_dir, cl))])\n",
    "y_lab = np.array([n for n, cl in enumerate(clases)\n",
    "           for name in os.listdir(os.path.join(train_dir, cl))])\n",
    "\n",
    "idx = np.random.permutation(len(x_train))\n",
    "x_train, y_lab = x_train[idx], y_lab[idx]\n",
    "\n",
    "test_files = natsorted(os.listdir(test_dir))\n",
    "\n",
    "x_test = np.array([brightness_fix(cv2.imread(os.path.join(test_dir, name), cv2.IMREAD_COLOR)) \n",
    "                   for name in test_files])"
   ]
  },
  {
   "cell_type": "code",
   "execution_count": 12,
   "metadata": {
    "colab": {
     "base_uri": "https://localhost:8080/",
     "height": 68
    },
    "colab_type": "code",
    "id": "dRNhQRcFe_-i",
    "outputId": "11a008d3-4912-4ebf-a916-97c68af8f115"
   },
   "outputs": [
    {
     "name": "stdout",
     "output_type": "stream",
     "text": [
      "(558, 256, 256, 3)\n",
      "14\n",
      "(558, 14)\n"
     ]
    }
   ],
   "source": [
    "\n",
    "x_train = x_train.astype('float32')\n",
    "x_train /= 255\n",
    "\n",
    "x_test = x_test.astype('float32')\n",
    "x_test /= 255\n",
    "\n",
    "y_train = to_categorical(y_lab, dtype=int)\n",
    "\n",
    "x_train, x_validation, y_train, y_validation = train_test_split(x_train,y_train,stratify=y_train,test_size=0.1, random_state = 69)\n",
    "\n",
    "print(x_train.shape)\n",
    "print(len(clases))\n",
    "print(y_train.shape)"
   ]
  },
  {
   "cell_type": "code",
   "execution_count": 13,
   "metadata": {
    "colab": {},
    "colab_type": "code",
    "id": "wI4HZ23tf1-Q"
   },
   "outputs": [],
   "source": [
    "datagen = ImageDataGenerator(\n",
    "    featurewise_center = True,\n",
    "    #shear_range=0.05,\n",
    "    zoom_range=0.4,\n",
    "    horizontal_flip=True,   \n",
    ")\n",
    "\n",
    "datagen_val = ImageDataGenerator(\n",
    "    samplewise_center = True,\n",
    ")\n",
    "\n",
    "datagen.fit(x_train)\n",
    "train_generator = datagen.flow(x_train, y_train, batch_size=batch_size)\n",
    "val_generator = datagen_val.flow(x_validation, y_validation)"
   ]
  },
  {
   "cell_type": "code",
   "execution_count": 14,
   "metadata": {
    "colab": {
     "base_uri": "https://localhost:8080/",
     "height": 351
    },
    "colab_type": "code",
    "id": "X7gzVsX5h-fN",
    "outputId": "ffd1549e-2150-4cda-bcb2-a9ce9c359f9a"
   },
   "outputs": [
    {
     "name": "stderr",
     "output_type": "stream",
     "text": [
      "Clipping input data to the valid range for imshow with RGB data ([0..1] for floats or [0..255] for integers).\n",
      "Clipping input data to the valid range for imshow with RGB data ([0..1] for floats or [0..255] for integers).\n",
      "Clipping input data to the valid range for imshow with RGB data ([0..1] for floats or [0..255] for integers).\n",
      "Clipping input data to the valid range for imshow with RGB data ([0..1] for floats or [0..255] for integers).\n",
      "Clipping input data to the valid range for imshow with RGB data ([0..1] for floats or [0..255] for integers).\n",
      "Clipping input data to the valid range for imshow with RGB data ([0..1] for floats or [0..255] for integers).\n",
      "Clipping input data to the valid range for imshow with RGB data ([0..1] for floats or [0..255] for integers).\n",
      "Clipping input data to the valid range for imshow with RGB data ([0..1] for floats or [0..255] for integers).\n",
      "Clipping input data to the valid range for imshow with RGB data ([0..1] for floats or [0..255] for integers).\n"
     ]
    },
    {
     "data": {
      "image/png": "[encoded data removed]",
      "text/plain": [
       "<Figure size 432x288 with 9 Axes>"
      ]
     },
     "metadata": {
      "needs_background": "light"
     },
     "output_type": "display_data"
    }
   ],
   "source": [
    "#os.makedirs('images')\n",
    "\n",
    "for X_batch, y_batch in datagen.flow(x_train, y_train):\n",
    "    for i in range(0, 9):\n",
    "        pyplot.subplot(330 + 1 + i)\n",
    "        pyplot.imshow(X_batch[i])\n",
    "    pyplot.show()\n",
    "    break"
   ]
  },
  {
   "cell_type": "code",
   "execution_count": 15,
   "metadata": {
    "colab": {},
    "colab_type": "code",
    "id": "qhNg9eqNgLip"
   },
   "outputs": [
    {
     "name": "stdout",
     "output_type": "stream",
     "text": [
      "WARNING:tensorflow:From /home/jisern/venv/lib/python3.6/site-packages/tensorflow/python/framework/op_def_library.py:263: colocate_with (from tensorflow.python.framework.ops) is deprecated and will be removed in a future version.\n",
      "Instructions for updating:\n",
      "Colocations handled automatically by placer.\n"
     ]
    }
   ],
   "source": [
    "# create the base pre-trained model\n",
    "base_model = vgg16.VGG16(weights='imagenet',include_top=False, input_shape=(256,256,3))"
   ]
  },
  {
   "cell_type": "code",
   "execution_count": 16,
   "metadata": {
    "colab": {
     "base_uri": "https://localhost:8080/",
     "height": 782
    },
    "colab_type": "code",
    "id": "du8Eh-LqkYG8",
    "outputId": "d7795f79-9b8e-4b66-eddc-a0815c9df55c"
   },
   "outputs": [
    {
     "name": "stdout",
     "output_type": "stream",
     "text": [
      "_________________________________________________________________\n",
      "Layer (type)                 Output Shape              Param #   \n",
      "=================================================================\n",
      "input_1 (InputLayer)         (None, 256, 256, 3)       0         \n",
      "_________________________________________________________________\n",
      "block1_conv1 (Conv2D)        (None, 256, 256, 64)      1792      \n",
      "_________________________________________________________________\n",
      "block1_conv2 (Conv2D)        (None, 256, 256, 64)      36928     \n",
      "_________________________________________________________________\n",
      "block1_pool (MaxPooling2D)   (None, 128, 128, 64)      0         \n",
      "_________________________________________________________________\n",
      "block2_conv1 (Conv2D)        (None, 128, 128, 128)     73856     \n",
      "_________________________________________________________________\n",
      "block2_conv2 (Conv2D)        (None, 128, 128, 128)     147584    \n",
      "_________________________________________________________________\n",
      "block2_pool (MaxPooling2D)   (None, 64, 64, 128)       0         \n",
      "_________________________________________________________________\n",
      "block3_conv1 (Conv2D)        (None, 64, 64, 256)       295168    \n",
      "_________________________________________________________________\n",
      "block3_conv2 (Conv2D)        (None, 64, 64, 256)       590080    \n",
      "_________________________________________________________________\n",
      "block3_conv3 (Conv2D)        (None, 64, 64, 256)       590080    \n",
      "_________________________________________________________________\n",
      "block3_pool (MaxPooling2D)   (None, 32, 32, 256)       0         \n",
      "_________________________________________________________________\n",
      "block4_conv1 (Conv2D)        (None, 32, 32, 512)       1180160   \n",
      "_________________________________________________________________\n",
      "block4_conv2 (Conv2D)        (None, 32, 32, 512)       2359808   \n",
      "_________________________________________________________________\n",
      "block4_conv3 (Conv2D)        (None, 32, 32, 512)       2359808   \n",
      "_________________________________________________________________\n",
      "block4_pool (MaxPooling2D)   (None, 16, 16, 512)       0         \n",
      "_________________________________________________________________\n",
      "block5_conv1 (Conv2D)        (None, 16, 16, 512)       2359808   \n",
      "_________________________________________________________________\n",
      "block5_conv2 (Conv2D)        (None, 16, 16, 512)       2359808   \n",
      "_________________________________________________________________\n",
      "block5_conv3 (Conv2D)        (None, 16, 16, 512)       2359808   \n",
      "_________________________________________________________________\n",
      "block5_pool (MaxPooling2D)   (None, 8, 8, 512)         0         \n",
      "=================================================================\n",
      "Total params: 14,714,688\n",
      "Trainable params: 14,714,688\n",
      "Non-trainable params: 0\n",
      "_________________________________________________________________\n"
     ]
    }
   ],
   "source": [
    "base_model.summary()"
   ]
  },
  {
   "cell_type": "code",
   "execution_count": 17,
   "metadata": {
    "colab": {},
    "colab_type": "code",
    "id": "-Y8xutkmkQe2"
   },
   "outputs": [
    {
     "name": "stdout",
     "output_type": "stream",
     "text": [
      "WARNING:tensorflow:From /home/jisern/venv/lib/python3.6/site-packages/keras/backend/tensorflow_backend.py:3445: calling dropout (from tensorflow.python.ops.nn_ops) with keep_prob is deprecated and will be removed in a future version.\n",
      "Instructions for updating:\n",
      "Please use `rate` instead of `keep_prob`. Rate should be set to `rate = 1 - keep_prob`.\n"
     ]
    }
   ],
   "source": [
    "x=base_model.output\n",
    "x=GlobalAveragePooling2D()(x)\n",
    "x=Dropout(rate=0.25)(x)\n",
    "x=Dense(1024, activation='relu')(x)\n",
    "x=Dropout(rate=0.5)(x)\n",
    "x=Dense(512,activation='relu')(x) \n",
    "preds=Dense(14,activation='softmax')(x) \n",
    "\n",
    "model=Model(inputs=base_model.input, outputs=preds)"
   ]
  },
  {
   "cell_type": "code",
   "execution_count": 18,
   "metadata": {},
   "outputs": [
    {
     "name": "stdout",
     "output_type": "stream",
     "text": [
      "0 input_1\n",
      "1 block1_conv1\n",
      "2 block1_conv2\n",
      "3 block1_pool\n",
      "4 block2_conv1\n",
      "5 block2_conv2\n",
      "6 block2_pool\n",
      "7 block3_conv1\n",
      "8 block3_conv2\n",
      "9 block3_conv3\n",
      "10 block3_pool\n",
      "11 block4_conv1\n",
      "12 block4_conv2\n",
      "13 block4_conv3\n",
      "14 block4_pool\n",
      "15 block5_conv1\n",
      "16 block5_conv2\n",
      "17 block5_conv3\n",
      "18 block5_pool\n",
      "19 global_average_pooling2d_1\n",
      "20 dropout_1\n",
      "21 dense_1\n",
      "22 dropout_2\n",
      "23 dense_2\n",
      "24 dense_3\n"
     ]
    }
   ],
   "source": [
    "for i,layer in enumerate(model.layers):\n",
    "  print(i,layer.name)"
   ]
  },
  {
   "cell_type": "code",
   "execution_count": 19,
   "metadata": {
    "colab": {
     "base_uri": "https://localhost:8080/",
     "height": 918
    },
    "colab_type": "code",
    "id": "iYPSs4WQgi8o",
    "outputId": "5d5b13ce-f7b9-46df-e17c-de0d0d4582d5"
   },
   "outputs": [
    {
     "name": "stdout",
     "output_type": "stream",
     "text": [
      "_________________________________________________________________\n",
      "Layer (type)                 Output Shape              Param #   \n",
      "=================================================================\n",
      "input_1 (InputLayer)         (None, 256, 256, 3)       0         \n",
      "_________________________________________________________________\n",
      "block1_conv1 (Conv2D)        (None, 256, 256, 64)      1792      \n",
      "_________________________________________________________________\n",
      "block1_conv2 (Conv2D)        (None, 256, 256, 64)      36928     \n",
      "_________________________________________________________________\n",
      "block1_pool (MaxPooling2D)   (None, 128, 128, 64)      0         \n",
      "_________________________________________________________________\n",
      "block2_conv1 (Conv2D)        (None, 128, 128, 128)     73856     \n",
      "_________________________________________________________________\n",
      "block2_conv2 (Conv2D)        (None, 128, 128, 128)     147584    \n",
      "_________________________________________________________________\n",
      "block2_pool (MaxPooling2D)   (None, 64, 64, 128)       0         \n",
      "_________________________________________________________________\n",
      "block3_conv1 (Conv2D)        (None, 64, 64, 256)       295168    \n",
      "_________________________________________________________________\n",
      "block3_conv2 (Conv2D)        (None, 64, 64, 256)       590080    \n",
      "_________________________________________________________________\n",
      "block3_conv3 (Conv2D)        (None, 64, 64, 256)       590080    \n",
      "_________________________________________________________________\n",
      "block3_pool (MaxPooling2D)   (None, 32, 32, 256)       0         \n",
      "_________________________________________________________________\n",
      "block4_conv1 (Conv2D)        (None, 32, 32, 512)       1180160   \n",
      "_________________________________________________________________\n",
      "block4_conv2 (Conv2D)        (None, 32, 32, 512)       2359808   \n",
      "_________________________________________________________________\n",
      "block4_conv3 (Conv2D)        (None, 32, 32, 512)       2359808   \n",
      "_________________________________________________________________\n",
      "block4_pool (MaxPooling2D)   (None, 16, 16, 512)       0         \n",
      "_________________________________________________________________\n",
      "block5_conv1 (Conv2D)        (None, 16, 16, 512)       2359808   \n",
      "_________________________________________________________________\n",
      "block5_conv2 (Conv2D)        (None, 16, 16, 512)       2359808   \n",
      "_________________________________________________________________\n",
      "block5_conv3 (Conv2D)        (None, 16, 16, 512)       2359808   \n",
      "_________________________________________________________________\n",
      "block5_pool (MaxPooling2D)   (None, 8, 8, 512)         0         \n",
      "_________________________________________________________________\n",
      "global_average_pooling2d_1 ( (None, 512)               0         \n",
      "_________________________________________________________________\n",
      "dropout_1 (Dropout)          (None, 512)               0         \n",
      "_________________________________________________________________\n",
      "dense_1 (Dense)              (None, 1024)              525312    \n",
      "_________________________________________________________________\n",
      "dropout_2 (Dropout)          (None, 1024)              0         \n",
      "_________________________________________________________________\n",
      "dense_2 (Dense)              (None, 512)               524800    \n",
      "_________________________________________________________________\n",
      "dense_3 (Dense)              (None, 14)                7182      \n",
      "=================================================================\n",
      "Total params: 15,771,982\n",
      "Trainable params: 14,036,494\n",
      "Non-trainable params: 1,735,488\n",
      "_________________________________________________________________\n"
     ]
    }
   ],
   "source": [
    "# first: train only the top layers (which were randomly initialized)\n",
    "# i.e. freeze all convolutional InceptionV3 layers\n",
    "for layer in model.layers[:11]:\n",
    "    layer.trainable=False\n",
    "for layer in model.layers[11:]:\n",
    "    layer.trainable=True\n",
    "\n",
    "# compile the model (should be done *after* setting layers to non-trainable)\n",
    "model.compile(loss='categorical_crossentropy', optimizer=Adam(lr=1e-5),\n",
    "              metrics=['accuracy'])\n",
    "\n",
    "model.summary()"
   ]
  },
  {
   "cell_type": "code",
   "execution_count": 20,
   "metadata": {
    "colab": {},
    "colab_type": "code",
    "id": "yMwIUfWoinE2"
   },
   "outputs": [],
   "source": [
    "es = EarlyStopping(monitor='val_loss', mode='min', min_delta=0, patience=10)"
   ]
  },
  {
   "cell_type": "code",
   "execution_count": 21,
   "metadata": {},
   "outputs": [
    {
     "name": "stdout",
     "output_type": "stream",
     "text": [
      "WARNING:tensorflow:From /home/jisern/venv/lib/python3.6/site-packages/tensorflow/python/ops/math_ops.py:3066: to_int32 (from tensorflow.python.ops.math_ops) is deprecated and will be removed in a future version.\n",
      "Instructions for updating:\n",
      "Use tf.cast instead.\n",
      "Epoch 1/1000\n",
      "18/17 [==============================] - 9s 479ms/step - loss: 2.7366 - acc: 0.0856 - val_loss: 2.6055 - val_acc: 0.0968\n",
      "Epoch 2/1000\n",
      "18/17 [==============================] - 3s 157ms/step - loss: 2.6200 - acc: 0.1082 - val_loss: 2.4826 - val_acc: 0.1452\n",
      "Epoch 3/1000\n",
      "18/17 [==============================] - 3s 193ms/step - loss: 2.5427 - acc: 0.1559 - val_loss: 2.3385 - val_acc: 0.2258\n",
      "Epoch 4/1000\n",
      "18/17 [==============================] - 4s 241ms/step - loss: 2.4018 - acc: 0.1893 - val_loss: 2.1631 - val_acc: 0.4032\n",
      "Epoch 5/1000\n",
      "18/17 [==============================] - 4s 240ms/step - loss: 2.2266 - acc: 0.2697 - val_loss: 1.9484 - val_acc: 0.4677\n",
      "Epoch 6/1000\n",
      "18/17 [==============================] - 4s 239ms/step - loss: 2.0722 - acc: 0.3396 - val_loss: 1.7756 - val_acc: 0.5484\n",
      "Epoch 7/1000\n",
      "18/17 [==============================] - 4s 240ms/step - loss: 1.8676 - acc: 0.4152 - val_loss: 1.5469 - val_acc: 0.6129\n",
      "Epoch 8/1000\n",
      "18/17 [==============================] - 4s 240ms/step - loss: 1.7583 - acc: 0.4502 - val_loss: 1.4362 - val_acc: 0.5806\n",
      "Epoch 9/1000\n",
      "18/17 [==============================] - 4s 241ms/step - loss: 1.5658 - acc: 0.5108 - val_loss: 1.2490 - val_acc: 0.6129\n",
      "Epoch 10/1000\n",
      "18/17 [==============================] - 4s 240ms/step - loss: 1.3697 - acc: 0.5651 - val_loss: 1.1682 - val_acc: 0.6129\n",
      "Epoch 11/1000\n",
      "18/17 [==============================] - 4s 240ms/step - loss: 1.2675 - acc: 0.6055 - val_loss: 0.9902 - val_acc: 0.6774\n",
      "Epoch 12/1000\n",
      "18/17 [==============================] - 5s 256ms/step - loss: 1.0915 - acc: 0.6698 - val_loss: 0.9174 - val_acc: 0.6613\n",
      "Epoch 13/1000\n",
      "18/17 [==============================] - 5s 263ms/step - loss: 1.0520 - acc: 0.6638 - val_loss: 0.8481 - val_acc: 0.6613\n",
      "Epoch 14/1000\n",
      "18/17 [==============================] - 5s 263ms/step - loss: 0.9285 - acc: 0.7119 - val_loss: 0.8019 - val_acc: 0.6935\n",
      "Epoch 15/1000\n",
      "18/17 [==============================] - 5s 265ms/step - loss: 0.8461 - acc: 0.7216 - val_loss: 0.7393 - val_acc: 0.7581\n",
      "Epoch 16/1000\n",
      "18/17 [==============================] - 5s 266ms/step - loss: 0.8845 - acc: 0.7137 - val_loss: 0.7013 - val_acc: 0.7419\n",
      "Epoch 17/1000\n",
      "18/17 [==============================] - 5s 263ms/step - loss: 0.7533 - acc: 0.7637 - val_loss: 0.6229 - val_acc: 0.7903\n",
      "Epoch 18/1000\n",
      "18/17 [==============================] - 5s 266ms/step - loss: 0.7062 - acc: 0.7805 - val_loss: 0.6076 - val_acc: 0.7419\n",
      "Epoch 19/1000\n",
      "18/17 [==============================] - 5s 265ms/step - loss: 0.6579 - acc: 0.7734 - val_loss: 0.6610 - val_acc: 0.7419\n",
      "Epoch 20/1000\n",
      "18/17 [==============================] - 5s 262ms/step - loss: 0.6327 - acc: 0.7798 - val_loss: 0.5427 - val_acc: 0.7419\n",
      "Epoch 21/1000\n",
      "18/17 [==============================] - 5s 265ms/step - loss: 0.5923 - acc: 0.8024 - val_loss: 0.5647 - val_acc: 0.7581\n",
      "Epoch 22/1000\n",
      "18/17 [==============================] - 5s 266ms/step - loss: 0.5153 - acc: 0.8253 - val_loss: 0.6642 - val_acc: 0.7097\n",
      "Epoch 23/1000\n",
      "18/17 [==============================] - 5s 264ms/step - loss: 0.5533 - acc: 0.8089 - val_loss: 0.4872 - val_acc: 0.8226\n",
      "Epoch 24/1000\n",
      "18/17 [==============================] - 5s 264ms/step - loss: 0.4421 - acc: 0.8427 - val_loss: 0.3947 - val_acc: 0.8548\n",
      "Epoch 25/1000\n",
      "18/17 [==============================] - 5s 263ms/step - loss: 0.4790 - acc: 0.8448 - val_loss: 0.4170 - val_acc: 0.8387\n",
      "Epoch 26/1000\n",
      "18/17 [==============================] - 5s 265ms/step - loss: 0.3962 - acc: 0.8744 - val_loss: 0.4263 - val_acc: 0.8387\n",
      "Epoch 27/1000\n",
      "18/17 [==============================] - 5s 263ms/step - loss: 0.4016 - acc: 0.8671 - val_loss: 0.3806 - val_acc: 0.8871\n",
      "Epoch 28/1000\n",
      "18/17 [==============================] - 5s 265ms/step - loss: 0.4134 - acc: 0.8709 - val_loss: 0.4292 - val_acc: 0.8548\n",
      "Epoch 29/1000\n",
      "18/17 [==============================] - 5s 264ms/step - loss: 0.3147 - acc: 0.9078 - val_loss: 0.4448 - val_acc: 0.7742\n",
      "Epoch 30/1000\n",
      "18/17 [==============================] - 5s 266ms/step - loss: 0.3743 - acc: 0.8841 - val_loss: 0.3132 - val_acc: 0.8710\n",
      "Epoch 31/1000\n",
      "18/17 [==============================] - 5s 264ms/step - loss: 0.3342 - acc: 0.8918 - val_loss: 0.3392 - val_acc: 0.8548\n",
      "Epoch 32/1000\n",
      "18/17 [==============================] - 5s 265ms/step - loss: 0.3696 - acc: 0.8824 - val_loss: 0.4146 - val_acc: 0.8065\n",
      "Epoch 33/1000\n",
      "18/17 [==============================] - 5s 265ms/step - loss: 0.3509 - acc: 0.8957 - val_loss: 0.3284 - val_acc: 0.8548\n",
      "Epoch 34/1000\n",
      "18/17 [==============================] - 5s 265ms/step - loss: 0.2762 - acc: 0.9044 - val_loss: 0.2161 - val_acc: 0.9355\n",
      "Epoch 35/1000\n",
      "18/17 [==============================] - 5s 266ms/step - loss: 0.2613 - acc: 0.9123 - val_loss: 0.2550 - val_acc: 0.8710\n",
      "Epoch 36/1000\n",
      "18/17 [==============================] - 5s 263ms/step - loss: 0.2245 - acc: 0.9357 - val_loss: 0.2782 - val_acc: 0.9032\n",
      "Epoch 37/1000\n",
      "18/17 [==============================] - 5s 265ms/step - loss: 0.2716 - acc: 0.9200 - val_loss: 0.2969 - val_acc: 0.8548\n",
      "Epoch 38/1000\n",
      "18/17 [==============================] - 5s 264ms/step - loss: 0.2351 - acc: 0.9248 - val_loss: 0.3945 - val_acc: 0.8387\n",
      "Epoch 39/1000\n",
      "18/17 [==============================] - 5s 264ms/step - loss: 0.2496 - acc: 0.9200 - val_loss: 0.2325 - val_acc: 0.9355\n",
      "Epoch 40/1000\n",
      "18/17 [==============================] - 5s 266ms/step - loss: 0.2159 - acc: 0.9179 - val_loss: 0.2250 - val_acc: 0.9032\n",
      "Epoch 41/1000\n",
      "18/17 [==============================] - 5s 263ms/step - loss: 0.2173 - acc: 0.9248 - val_loss: 0.2645 - val_acc: 0.9194\n",
      "Epoch 42/1000\n",
      "18/17 [==============================] - 5s 264ms/step - loss: 0.2477 - acc: 0.9109 - val_loss: 0.2667 - val_acc: 0.8710\n",
      "Epoch 43/1000\n",
      "18/17 [==============================] - 5s 264ms/step - loss: 0.2348 - acc: 0.9235 - val_loss: 0.2280 - val_acc: 0.8710\n",
      "Epoch 44/1000\n",
      "18/17 [==============================] - 5s 265ms/step - loss: 0.2206 - acc: 0.9287 - val_loss: 0.2049 - val_acc: 0.9355\n",
      "Epoch 45/1000\n",
      "18/17 [==============================] - 5s 264ms/step - loss: 0.2084 - acc: 0.9405 - val_loss: 0.2503 - val_acc: 0.9194\n",
      "Epoch 46/1000\n",
      "18/17 [==============================] - 5s 263ms/step - loss: 0.1938 - acc: 0.9444 - val_loss: 0.2677 - val_acc: 0.8871\n",
      "Epoch 47/1000\n",
      "18/17 [==============================] - 5s 264ms/step - loss: 0.1708 - acc: 0.9488 - val_loss: 0.2173 - val_acc: 0.9032\n",
      "Epoch 48/1000\n",
      "18/17 [==============================] - 5s 265ms/step - loss: 0.1561 - acc: 0.9478 - val_loss: 0.2583 - val_acc: 0.8710\n",
      "Epoch 49/1000\n",
      "18/17 [==============================] - 5s 264ms/step - loss: 0.2161 - acc: 0.9283 - val_loss: 0.2148 - val_acc: 0.9032\n",
      "Epoch 50/1000\n",
      "18/17 [==============================] - 5s 263ms/step - loss: 0.1725 - acc: 0.9527 - val_loss: 0.3015 - val_acc: 0.8871\n",
      "Epoch 51/1000\n",
      "18/17 [==============================] - 5s 261ms/step - loss: 0.1733 - acc: 0.9444 - val_loss: 0.3050 - val_acc: 0.8710\n",
      "Epoch 52/1000\n",
      "18/17 [==============================] - 5s 263ms/step - loss: 0.1304 - acc: 0.9600 - val_loss: 0.2768 - val_acc: 0.9032\n",
      "Epoch 53/1000\n",
      "18/17 [==============================] - 5s 264ms/step - loss: 0.1786 - acc: 0.9478 - val_loss: 0.3776 - val_acc: 0.8710\n",
      "Epoch 54/1000\n",
      "18/17 [==============================] - 5s 262ms/step - loss: 0.1477 - acc: 0.9478 - val_loss: 0.1828 - val_acc: 0.9355\n",
      "Epoch 55/1000\n",
      "18/17 [==============================] - 5s 263ms/step - loss: 0.1668 - acc: 0.9457 - val_loss: 0.2965 - val_acc: 0.8387\n",
      "Epoch 56/1000\n",
      "18/17 [==============================] - 5s 264ms/step - loss: 0.1323 - acc: 0.9670 - val_loss: 0.2526 - val_acc: 0.8710\n",
      "Epoch 57/1000\n",
      "18/17 [==============================] - 5s 264ms/step - loss: 0.1372 - acc: 0.9548 - val_loss: 0.2912 - val_acc: 0.8548\n",
      "Epoch 58/1000\n",
      "18/17 [==============================] - 5s 264ms/step - loss: 0.1302 - acc: 0.9513 - val_loss: 0.3179 - val_acc: 0.8710\n",
      "Epoch 59/1000\n",
      "18/17 [==============================] - 5s 264ms/step - loss: 0.1150 - acc: 0.9635 - val_loss: 0.2986 - val_acc: 0.8548\n"
     ]
    },
    {
     "name": "stdout",
     "output_type": "stream",
     "text": [
      "Epoch 60/1000\n",
      "18/17 [==============================] - 5s 264ms/step - loss: 0.0987 - acc: 0.9670 - val_loss: 0.3507 - val_acc: 0.8710\n",
      "Epoch 61/1000\n",
      "18/17 [==============================] - 5s 264ms/step - loss: 0.1498 - acc: 0.9492 - val_loss: 0.1717 - val_acc: 0.9032\n",
      "Epoch 62/1000\n",
      "18/17 [==============================] - 5s 265ms/step - loss: 0.1124 - acc: 0.9635 - val_loss: 0.3466 - val_acc: 0.8548\n",
      "Epoch 63/1000\n",
      "18/17 [==============================] - 5s 264ms/step - loss: 0.0935 - acc: 0.9739 - val_loss: 0.3655 - val_acc: 0.9194\n",
      "Epoch 64/1000\n",
      "18/17 [==============================] - 5s 264ms/step - loss: 0.0901 - acc: 0.9652 - val_loss: 0.3069 - val_acc: 0.8548\n",
      "Epoch 65/1000\n",
      "18/17 [==============================] - 5s 264ms/step - loss: 0.1077 - acc: 0.9648 - val_loss: 0.3280 - val_acc: 0.8710\n",
      "Epoch 66/1000\n",
      "18/17 [==============================] - 5s 264ms/step - loss: 0.0745 - acc: 0.9774 - val_loss: 0.2142 - val_acc: 0.9194\n",
      "Epoch 67/1000\n",
      "18/17 [==============================] - 5s 264ms/step - loss: 0.0878 - acc: 0.9718 - val_loss: 0.2334 - val_acc: 0.8871\n",
      "Epoch 68/1000\n",
      "18/17 [==============================] - 5s 264ms/step - loss: 0.0903 - acc: 0.9687 - val_loss: 0.2755 - val_acc: 0.9194\n",
      "Epoch 69/1000\n",
      "18/17 [==============================] - 5s 264ms/step - loss: 0.0936 - acc: 0.9683 - val_loss: 0.3996 - val_acc: 0.8548\n",
      "Epoch 70/1000\n",
      "18/17 [==============================] - 5s 263ms/step - loss: 0.1093 - acc: 0.9565 - val_loss: 0.3607 - val_acc: 0.8548\n",
      "Epoch 71/1000\n",
      "18/17 [==============================] - 5s 263ms/step - loss: 0.0671 - acc: 0.9788 - val_loss: 0.2393 - val_acc: 0.9194\n"
     ]
    }
   ],
   "source": [
    "# fits the model on batches with real-time data augmentation:\n",
    "model.fit_generator(train_generator,\n",
    "                   steps_per_epoch=len(x_train) / batch_size, epochs=epochs,\n",
    "                   validation_data = val_generator,\n",
    "                   validation_steps = len(x_validation) / batch_size,\n",
    "                   verbose=1, callbacks=[es])\n",
    "\n",
    "model.save(model_name)"
   ]
  },
  {
   "cell_type": "code",
   "execution_count": 23,
   "metadata": {
    "colab": {
     "base_uri": "https://localhost:8080/",
     "height": 34
    },
    "colab_type": "code",
    "id": "zJqyqluISfEe",
    "outputId": "1a51841c-9264-4611-ec00-07a4da5315de"
   },
   "outputs": [
    {
     "name": "stdout",
     "output_type": "stream",
     "text": [
      "146/146 [==============================] - 1s 10ms/step\n"
     ]
    }
   ],
   "source": [
    "x_test = datagen.standardize(x_test)\n",
    "predictions_test = model.predict(x_test, verbose=1)\n",
    "\n",
    "data = pd.DataFrame()\n",
    "data['Id'] = test_files\n",
    "data['Category'] = predictions_test.argmax(axis=-1)\n",
    "\n",
    "\n",
    "data.to_csv(\"envio.csv\", index=False)"
   ]
  },
  {
   "cell_type": "code",
   "execution_count": 24,
   "metadata": {
    "colab": {
     "base_uri": "https://localhost:8080/",
     "height": 34
    },
    "colab_type": "code",
    "id": "62v--Nc3HJpa",
    "outputId": "56ff09e4-2366-4017-f3c5-bffda2f1c377"
   },
   "outputs": [
    {
     "name": "stdout",
     "output_type": "stream",
     "text": [
      "0.958904109589041\n"
     ]
    }
   ],
   "source": [
    "conversion = {\n",
    "    'a': 0,\n",
    "    'b': 1,\n",
    "    'c': 2,\n",
    "    'd': 3,\n",
    "    'e': 4,\n",
    "    'f': 5,\n",
    "    'g': 6,\n",
    "    'h': 7,\n",
    "    'i': 8,\n",
    "    'j': 9,\n",
    "    'k': 10,\n",
    "    'l': 11,\n",
    "    'm': 12,\n",
    "    'n': 13\n",
    "}\n",
    "classes = []\n",
    "for t in test_files:\n",
    "  class_ = t.split(\"T\")[0]\n",
    "  classes.append(conversion[class_])\n",
    "\n",
    "from sklearn.metrics import accuracy_score\n",
    "print(accuracy_score(classes, data['Category']))"
   ]
  },
  {
   "cell_type": "code",
   "execution_count": null,
   "metadata": {},
   "outputs": [],
   "source": []
  }
 ],
 "metadata": {
  "accelerator": "GPU",
  "colab": {
   "collapsed_sections": [],
   "name": "vgg16_Keras_7.ipynb",
   "provenance": [],
   "version": "0.3.2"
  },
  "kernelspec": {
   "display_name": "Python 3",
   "language": "python",
   "name": "python3"
  }
 },
 "nbformat": 4,
 "nbformat_minor": 1
}
