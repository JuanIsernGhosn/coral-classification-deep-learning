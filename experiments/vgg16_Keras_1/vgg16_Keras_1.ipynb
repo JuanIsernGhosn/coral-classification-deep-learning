{
  "nbformat": 4,
  "nbformat_minor": 0,
  "metadata": {
    "colab": {
      "name": "vgg16_Keras_1",
      "version": "0.3.2",
      "provenance": [],
      "collapsed_sections": []
    },
    "kernelspec": {
      "name": "python3",
      "display_name": "Python 3"
    },
    "accelerator": "GPU"
  },
  "cells": [
    {
      "metadata": {
        "id": "z4Gs0brSoczG",
        "colab_type": "code",
        "colab": {
          "base_uri": "https://localhost:8080/",
          "height": 272
        },
        "outputId": "223e713b-5781-4ec8-857e-86aac51ccd86"
      },
      "cell_type": "code",
      "source": [
        "!git clone github.com/JuanIsernGhosn/coral-classification"
      ],
      "execution_count": 115,
      "outputs": [
        {
          "output_type": "stream",
          "text": [
            "warning: adding embedded git repository: coral-classification-deep-learning\n",
            "hint: You've added another git repository inside your current repository.\n",
            "hint: Clones of the outer repository will not contain the contents of\n",
            "hint: the embedded repository and will not know how to obtain it.\n",
            "hint: If you meant to add a submodule, use:\n",
            "hint: \n",
            "hint: \tgit submodule add <url> coral-classification-deep-learning\n",
            "hint: \n",
            "hint: If you added this path by mistake, you can remove it from the\n",
            "hint: index with:\n",
            "hint: \n",
            "hint: \tgit rm --cached coral-classification-deep-learning\n",
            "hint: \n",
            "hint: See \"git help submodule\" for more information.\n",
            "/content\n"
          ],
          "name": "stdout"
        }
      ]
    },
    {
      "metadata": {
        "id": "eKjn3pSy0Ivw",
        "colab_type": "code",
        "colab": {}
      },
      "cell_type": "code",
      "source": [
        "experiment = \"coral-classification-deep-learning/experiments/vgg16_Keras_1/\""
      ],
      "execution_count": 0,
      "outputs": []
    },
    {
      "metadata": {
        "id": "eWr--S4jZgx8",
        "colab_type": "text"
      },
      "cell_type": "markdown",
      "source": [
        "Carga de librerías\n"
      ]
    },
    {
      "metadata": {
        "id": "KZjXd1ZRZYv3",
        "colab_type": "code",
        "colab": {}
      },
      "cell_type": "code",
      "source": [
        "import numpy as np \n",
        "import os\n",
        "import cv2\n",
        "import matplotlib.pyplot as plt\n",
        "from sklearn.model_selection import train_test_split\n",
        "from keras.models import Sequential\n",
        "from keras.layers import Dense, Conv2D, MaxPooling2D, ZeroPadding2D, GlobalAveragePooling2D\n",
        "from keras.layers.core import Flatten, Dropout\n",
        "from keras.preprocessing.image import ImageDataGenerator\n",
        "from keras import backend as K\n",
        "from keras.models import Model\n",
        "import keras\n",
        "import tensorflow as tf\n",
        "from keras.optimizers import SGD\n",
        "from keras.applications import vgg16\n",
        "from keras.callbacks import EarlyStopping \n",
        "from natsort import natsorted, ns\n",
        "from keras.utils import to_categorical"
      ],
      "execution_count": 0,
      "outputs": []
    },
    {
      "metadata": {
        "id": "yEv6y6ALZsCj",
        "colab_type": "text"
      },
      "cell_type": "markdown",
      "source": [
        "Set global parameters"
      ]
    },
    {
      "metadata": {
        "id": "cyironsDZ0Qp",
        "colab_type": "code",
        "colab": {}
      },
      "cell_type": "code",
      "source": [
        "# Fijar las semillas\n",
        "seed = 2032 # Semilla del numpy\n",
        "tf.set_random_seed(seed)# Fijar semilla del keras/tensorflow\n",
        "\n",
        "# Global parameters\n",
        "epochs = 700"
      ],
      "execution_count": 0,
      "outputs": []
    },
    {
      "metadata": {
        "id": "yncyRF-aamyL",
        "colab_type": "text"
      },
      "cell_type": "markdown",
      "source": [
        "Load and format data "
      ]
    },
    {
      "metadata": {
        "id": "Bw03fUT4a2Qn",
        "colab_type": "code",
        "outputId": "fc7d18ab-b8ef-4d8d-e8a2-6920c990a71d",
        "colab": {
          "base_uri": "https://localhost:8080/",
          "height": 51
        }
      },
      "cell_type": "code",
      "source": [
        "# Train and test directories\n",
        "train_dir = \"coral-classification-deep-learning/coral_img/train/\"\n",
        "test_dir = \"coral-classification-deep-learning/coral_img/Test_Mixed/\"\n",
        "\n",
        "# Classes\n",
        "clases = list(sorted(os.listdir(train_dir)))\n",
        "\n",
        "# Load data and labels\n",
        "x_train = np.array([cv2.imread(os.path.join(train_dir, cl, name)) for cl in clases\n",
        "           for name in os.listdir(os.path.join(train_dir, cl))])\n",
        "\n",
        "y_train = np.array([n for n, cl in enumerate(clases)\n",
        "           for name in os.listdir(os.path.join(train_dir, cl))])\n",
        "\n",
        "y_train = to_categorical(y_train, dtype=int)\n",
        "\n",
        "print(x_train.shape)\n",
        "print(y_train.shape)"
      ],
      "execution_count": 65,
      "outputs": [
        {
          "output_type": "stream",
          "text": [
            "(620, 256, 256, 3)\n",
            "(620, 14)\n"
          ],
          "name": "stdout"
        }
      ]
    },
    {
      "metadata": {
        "id": "S3C5K2gjiKFz",
        "colab_type": "text"
      },
      "cell_type": "markdown",
      "source": [
        "Data augmentation\n"
      ]
    },
    {
      "metadata": {
        "id": "5hqaLZXrbny4",
        "colab_type": "code",
        "colab": {}
      },
      "cell_type": "code",
      "source": [
        "datagen = ImageDataGenerator(\n",
        "    rescale=1./255,\n",
        "    shear_range=0.2,\n",
        "    zoom_range=0.2,\n",
        "    horizontal_flip=True,\n",
        "    validation_split=0.2)"
      ],
      "execution_count": 0,
      "outputs": []
    },
    {
      "metadata": {
        "id": "vTD2awXhiQqS",
        "colab_type": "text"
      },
      "cell_type": "markdown",
      "source": [
        "Add dense layers"
      ]
    },
    {
      "metadata": {
        "id": "ywx1MmeyiZby",
        "colab_type": "code",
        "colab": {}
      },
      "cell_type": "code",
      "source": [
        "model = vgg16.VGG16(weights='imagenet',include_top=False, input_shape=(256,256,3))\n",
        "\n",
        "x=model.output\n",
        "x=GlobalAveragePooling2D()(x)\n",
        "x=Dense(1024,activation='relu')(x) #we add dense layers so that the model can learn more complex functions and classify for better results.\n",
        "x=Dense(1024,activation='relu')(x) #dense layer 2\n",
        "x=Dense(512,activation='relu')(x) #dense layer 3\n",
        "preds=Dense(14,activation='softmax')(x) #final layer with softmax activation\n",
        "\n",
        "model=Model(inputs=model.input,outputs=preds)"
      ],
      "execution_count": 0,
      "outputs": []
    },
    {
      "metadata": {
        "id": "ob882xIKrly6",
        "colab_type": "code",
        "colab": {
          "base_uri": "https://localhost:8080/",
          "height": 425
        },
        "outputId": "995c77ce-b9ea-460b-b6ab-be6995d4376c"
      },
      "cell_type": "code",
      "source": [
        "for i,layer in enumerate(model.layers):\n",
        "  print(i,layer.name)"
      ],
      "execution_count": 92,
      "outputs": [
        {
          "output_type": "stream",
          "text": [
            "0 input_3\n",
            "1 block1_conv1\n",
            "2 block1_conv2\n",
            "3 block1_pool\n",
            "4 block2_conv1\n",
            "5 block2_conv2\n",
            "6 block2_pool\n",
            "7 block3_conv1\n",
            "8 block3_conv2\n",
            "9 block3_conv3\n",
            "10 block3_pool\n",
            "11 block4_conv1\n",
            "12 block4_conv2\n",
            "13 block4_conv3\n",
            "14 block4_pool\n",
            "15 block5_conv1\n",
            "16 block5_conv2\n",
            "17 block5_conv3\n",
            "18 block5_pool\n",
            "19 global_average_pooling2d_3\n",
            "20 dense_9\n",
            "21 dense_10\n",
            "22 dense_11\n",
            "23 dense_12\n"
          ],
          "name": "stdout"
        }
      ]
    },
    {
      "metadata": {
        "id": "vdeGAJxfuAtU",
        "colab_type": "code",
        "colab": {}
      },
      "cell_type": "code",
      "source": [
        "Set trainable layers"
      ],
      "execution_count": 0,
      "outputs": []
    },
    {
      "metadata": {
        "id": "93iNa8GOsH8m",
        "colab_type": "code",
        "colab": {}
      },
      "cell_type": "code",
      "source": [
        "for layer in model.layers[:20]:\n",
        "    layer.trainable=False\n",
        "for layer in model.layers[20:]:\n",
        "    layer.trainable=True"
      ],
      "execution_count": 0,
      "outputs": []
    },
    {
      "metadata": {
        "id": "yeTxLnd5uHC2",
        "colab_type": "text"
      },
      "cell_type": "markdown",
      "source": [
        "Compile and fit model\n",
        "\n"
      ]
    },
    {
      "metadata": {
        "id": "o6Ji2V-BsqTi",
        "colab_type": "code",
        "colab": {
          "base_uri": "https://localhost:8080/",
          "height": 714
        },
        "outputId": "a8215b6f-3f91-48a0-da80-a0ea13ed4021"
      },
      "cell_type": "code",
      "source": [
        "model.compile(optimizer='Adam',loss='categorical_crossentropy',metrics=['accuracy'])\n",
        "\n",
        "datagen.fit(x_train)\n",
        "\n",
        "model.fit_generator(generator=datagen.flow(x_train, y_train, batch_size=60),\n",
        "                   steps_per_epoch=len(x_train) / 60, epochs=20)\n",
        "\n"
      ],
      "execution_count": 95,
      "outputs": [
        {
          "output_type": "stream",
          "text": [
            "Epoch 1/20\n",
            "11/10 [===============================] - 12s 1s/step - loss: 2.4555 - acc: 0.2083\n",
            "Epoch 2/20\n",
            "11/10 [===============================] - 11s 1s/step - loss: 1.8864 - acc: 0.4477\n",
            "Epoch 3/20\n",
            "11/10 [===============================] - 11s 997ms/step - loss: 1.4422 - acc: 0.5353\n",
            "Epoch 4/20\n",
            "11/10 [===============================] - 11s 1s/step - loss: 1.1222 - acc: 0.6363\n",
            "Epoch 5/20\n",
            "11/10 [===============================] - 11s 1s/step - loss: 0.9938 - acc: 0.6762\n",
            "Epoch 6/20\n",
            "11/10 [===============================] - 11s 998ms/step - loss: 0.8167 - acc: 0.7391\n",
            "Epoch 7/20\n",
            "11/10 [===============================] - 11s 1s/step - loss: 0.7198 - acc: 0.7647\n",
            "Epoch 8/20\n",
            "11/10 [===============================] - 11s 1s/step - loss: 0.5940 - acc: 0.8005\n",
            "Epoch 9/20\n",
            "11/10 [===============================] - 11s 1s/step - loss: 0.5635 - acc: 0.8259\n",
            "Epoch 10/20\n",
            "11/10 [===============================] - 11s 1s/step - loss: 0.4867 - acc: 0.8439\n",
            "Epoch 11/20\n",
            "11/10 [===============================] - 11s 1s/step - loss: 0.4535 - acc: 0.8305\n",
            "Epoch 12/20\n",
            "11/10 [===============================] - 11s 998ms/step - loss: 0.4157 - acc: 0.8632\n",
            "Epoch 13/20\n",
            "11/10 [===============================] - 11s 1s/step - loss: 0.3726 - acc: 0.8789\n",
            "Epoch 14/20\n",
            "11/10 [===============================] - 11s 1s/step - loss: 0.3255 - acc: 0.8939\n",
            "Epoch 15/20\n",
            "11/10 [===============================] - 11s 1s/step - loss: 0.3018 - acc: 0.8952\n",
            "Epoch 16/20\n",
            "11/10 [===============================] - 11s 1s/step - loss: 0.3366 - acc: 0.8985\n",
            "Epoch 17/20\n",
            "11/10 [===============================] - 11s 1s/step - loss: 0.2647 - acc: 0.9228\n",
            "Epoch 18/20\n",
            "11/10 [===============================] - 11s 1s/step - loss: 0.2542 - acc: 0.9165\n",
            "Epoch 19/20\n",
            "11/10 [===============================] - 11s 995ms/step - loss: 0.2490 - acc: 0.9238\n",
            "Epoch 20/20\n",
            "11/10 [===============================] - 11s 1s/step - loss: 0.1791 - acc: 0.9452\n"
          ],
          "name": "stdout"
        },
        {
          "output_type": "execute_result",
          "data": {
            "text/plain": [
              "<keras.callbacks.History at 0x7f9e91202438>"
            ]
          },
          "metadata": {
            "tags": []
          },
          "execution_count": 95
        }
      ]
    },
    {
      "metadata": {
        "id": "apGeZFjwuPKE",
        "colab_type": "text"
      },
      "cell_type": "markdown",
      "source": [
        "Save model"
      ]
    },
    {
      "metadata": {
        "id": "SXUVK4V0XhbX",
        "colab_type": "code",
        "colab": {}
      },
      "cell_type": "code",
      "source": [
        "model.save(experiment + 'model.h5')"
      ],
      "execution_count": 0,
      "outputs": []
    },
    {
      "metadata": {
        "id": "LxPs3lfDuajU",
        "colab_type": "text"
      },
      "cell_type": "markdown",
      "source": [
        "Generate .csv"
      ]
    },
    {
      "metadata": {
        "id": "KDmbuUh4YMS1",
        "colab_type": "code",
        "colab": {
          "base_uri": "https://localhost:8080/",
          "height": 34
        },
        "outputId": "5535ea9e-80e4-4ef9-bf9d-e115ee82d3d8"
      },
      "cell_type": "code",
      "source": [
        "test_files = natsorted(os.listdir(test_dir))\n",
        "\n",
        "x_test = np.array([cv2.imread(os.path.join(test_dir, name)) \n",
        "                   for name in test_files])\n",
        "\n",
        "predictions_test = model.predict(x_test, verbose=1)\n",
        "\n",
        "data = pd.DataFrame()\n",
        "data['Id'] = test_files\n",
        "data['Category'] = predictions_test.argmax(axis=-1)\n",
        "\n",
        "data.to_csv(experiment + \"envio.csv\", index=False)"
      ],
      "execution_count": 108,
      "outputs": [
        {
          "output_type": "stream",
          "text": [
            "146/146 [==============================] - 2s 13ms/step\n"
          ],
          "name": "stdout"
        }
      ]
    },
    {
      "metadata": {
        "id": "pydzOFgmaVIr",
        "colab_type": "code",
        "colab": {
          "base_uri": "https://localhost:8080/",
          "height": 1969
        },
        "outputId": "23431f2f-5c9a-4988-9127-f481ebb8d228"
      },
      "cell_type": "code",
      "source": [
        "data"
      ],
      "execution_count": 117,
      "outputs": [
        {
          "output_type": "execute_result",
          "data": {
            "text/html": [
              "<div>\n",
              "<style scoped>\n",
              "    .dataframe tbody tr th:only-of-type {\n",
              "        vertical-align: middle;\n",
              "    }\n",
              "\n",
              "    .dataframe tbody tr th {\n",
              "        vertical-align: top;\n",
              "    }\n",
              "\n",
              "    .dataframe thead th {\n",
              "        text-align: right;\n",
              "    }\n",
              "</style>\n",
              "<table border=\"1\" class=\"dataframe\">\n",
              "  <thead>\n",
              "    <tr style=\"text-align: right;\">\n",
              "      <th></th>\n",
              "      <th>Id</th>\n",
              "      <th>Category</th>\n",
              "    </tr>\n",
              "  </thead>\n",
              "  <tbody>\n",
              "    <tr>\n",
              "      <th>0</th>\n",
              "      <td>aT1.jpg</td>\n",
              "      <td>7</td>\n",
              "    </tr>\n",
              "    <tr>\n",
              "      <th>1</th>\n",
              "      <td>aT2.jpg</td>\n",
              "      <td>0</td>\n",
              "    </tr>\n",
              "    <tr>\n",
              "      <th>2</th>\n",
              "      <td>aT5.jpg</td>\n",
              "      <td>0</td>\n",
              "    </tr>\n",
              "    <tr>\n",
              "      <th>3</th>\n",
              "      <td>aT17.jpg</td>\n",
              "      <td>0</td>\n",
              "    </tr>\n",
              "    <tr>\n",
              "      <th>4</th>\n",
              "      <td>aT21.jpg</td>\n",
              "      <td>6</td>\n",
              "    </tr>\n",
              "    <tr>\n",
              "      <th>5</th>\n",
              "      <td>aT31.jpg</td>\n",
              "      <td>7</td>\n",
              "    </tr>\n",
              "    <tr>\n",
              "      <th>6</th>\n",
              "      <td>aT33.jpg</td>\n",
              "      <td>7</td>\n",
              "    </tr>\n",
              "    <tr>\n",
              "      <th>7</th>\n",
              "      <td>aT34.jpg</td>\n",
              "      <td>11</td>\n",
              "    </tr>\n",
              "    <tr>\n",
              "      <th>8</th>\n",
              "      <td>aT47.jpg</td>\n",
              "      <td>0</td>\n",
              "    </tr>\n",
              "    <tr>\n",
              "      <th>9</th>\n",
              "      <td>aT55.jpg</td>\n",
              "      <td>0</td>\n",
              "    </tr>\n",
              "    <tr>\n",
              "      <th>10</th>\n",
              "      <td>aT61.jpg</td>\n",
              "      <td>0</td>\n",
              "    </tr>\n",
              "    <tr>\n",
              "      <th>11</th>\n",
              "      <td>aT68.jpg</td>\n",
              "      <td>0</td>\n",
              "    </tr>\n",
              "    <tr>\n",
              "      <th>12</th>\n",
              "      <td>aT74.jpg</td>\n",
              "      <td>0</td>\n",
              "    </tr>\n",
              "    <tr>\n",
              "      <th>13</th>\n",
              "      <td>aT75.jpg</td>\n",
              "      <td>0</td>\n",
              "    </tr>\n",
              "    <tr>\n",
              "      <th>14</th>\n",
              "      <td>aT80.jpg</td>\n",
              "      <td>0</td>\n",
              "    </tr>\n",
              "    <tr>\n",
              "      <th>15</th>\n",
              "      <td>aT83.jpg</td>\n",
              "      <td>0</td>\n",
              "    </tr>\n",
              "    <tr>\n",
              "      <th>16</th>\n",
              "      <td>aT84.jpg</td>\n",
              "      <td>0</td>\n",
              "    </tr>\n",
              "    <tr>\n",
              "      <th>17</th>\n",
              "      <td>aT94.jpg</td>\n",
              "      <td>0</td>\n",
              "    </tr>\n",
              "    <tr>\n",
              "      <th>18</th>\n",
              "      <td>aT99.jpg</td>\n",
              "      <td>0</td>\n",
              "    </tr>\n",
              "    <tr>\n",
              "      <th>19</th>\n",
              "      <td>aT100.jpg</td>\n",
              "      <td>0</td>\n",
              "    </tr>\n",
              "    <tr>\n",
              "      <th>20</th>\n",
              "      <td>aT104.jpg</td>\n",
              "      <td>0</td>\n",
              "    </tr>\n",
              "    <tr>\n",
              "      <th>21</th>\n",
              "      <td>bT6.jpg</td>\n",
              "      <td>10</td>\n",
              "    </tr>\n",
              "    <tr>\n",
              "      <th>22</th>\n",
              "      <td>bT12.jpg</td>\n",
              "      <td>12</td>\n",
              "    </tr>\n",
              "    <tr>\n",
              "      <th>23</th>\n",
              "      <td>bT17.jpg</td>\n",
              "      <td>10</td>\n",
              "    </tr>\n",
              "    <tr>\n",
              "      <th>24</th>\n",
              "      <td>bT18.jpg</td>\n",
              "      <td>10</td>\n",
              "    </tr>\n",
              "    <tr>\n",
              "      <th>25</th>\n",
              "      <td>bT23.jpg</td>\n",
              "      <td>12</td>\n",
              "    </tr>\n",
              "    <tr>\n",
              "      <th>26</th>\n",
              "      <td>bT26.jpg</td>\n",
              "      <td>7</td>\n",
              "    </tr>\n",
              "    <tr>\n",
              "      <th>27</th>\n",
              "      <td>bT29.jpg</td>\n",
              "      <td>5</td>\n",
              "    </tr>\n",
              "    <tr>\n",
              "      <th>28</th>\n",
              "      <td>bT40.jpg</td>\n",
              "      <td>10</td>\n",
              "    </tr>\n",
              "    <tr>\n",
              "      <th>29</th>\n",
              "      <td>bT50.jpg</td>\n",
              "      <td>10</td>\n",
              "    </tr>\n",
              "    <tr>\n",
              "      <th>...</th>\n",
              "      <td>...</td>\n",
              "      <td>...</td>\n",
              "    </tr>\n",
              "    <tr>\n",
              "      <th>116</th>\n",
              "      <td>lT14.jpg</td>\n",
              "      <td>11</td>\n",
              "    </tr>\n",
              "    <tr>\n",
              "      <th>117</th>\n",
              "      <td>lT18.jpg</td>\n",
              "      <td>7</td>\n",
              "    </tr>\n",
              "    <tr>\n",
              "      <th>118</th>\n",
              "      <td>lT26.jpg</td>\n",
              "      <td>7</td>\n",
              "    </tr>\n",
              "    <tr>\n",
              "      <th>119</th>\n",
              "      <td>lT27.jpg</td>\n",
              "      <td>11</td>\n",
              "    </tr>\n",
              "    <tr>\n",
              "      <th>120</th>\n",
              "      <td>lT29.jpg</td>\n",
              "      <td>11</td>\n",
              "    </tr>\n",
              "    <tr>\n",
              "      <th>121</th>\n",
              "      <td>lT30.jpg</td>\n",
              "      <td>9</td>\n",
              "    </tr>\n",
              "    <tr>\n",
              "      <th>122</th>\n",
              "      <td>lT31.jpg</td>\n",
              "      <td>7</td>\n",
              "    </tr>\n",
              "    <tr>\n",
              "      <th>123</th>\n",
              "      <td>lT35.jpg</td>\n",
              "      <td>11</td>\n",
              "    </tr>\n",
              "    <tr>\n",
              "      <th>124</th>\n",
              "      <td>lT39.jpg</td>\n",
              "      <td>11</td>\n",
              "    </tr>\n",
              "    <tr>\n",
              "      <th>125</th>\n",
              "      <td>lT42.jpg</td>\n",
              "      <td>11</td>\n",
              "    </tr>\n",
              "    <tr>\n",
              "      <th>126</th>\n",
              "      <td>lT67.jpg</td>\n",
              "      <td>11</td>\n",
              "    </tr>\n",
              "    <tr>\n",
              "      <th>127</th>\n",
              "      <td>lT75.jpg</td>\n",
              "      <td>7</td>\n",
              "    </tr>\n",
              "    <tr>\n",
              "      <th>128</th>\n",
              "      <td>lT76.jpg</td>\n",
              "      <td>7</td>\n",
              "    </tr>\n",
              "    <tr>\n",
              "      <th>129</th>\n",
              "      <td>lT77.jpg</td>\n",
              "      <td>7</td>\n",
              "    </tr>\n",
              "    <tr>\n",
              "      <th>130</th>\n",
              "      <td>lT81.jpg</td>\n",
              "      <td>11</td>\n",
              "    </tr>\n",
              "    <tr>\n",
              "      <th>131</th>\n",
              "      <td>lT85.jpg</td>\n",
              "      <td>11</td>\n",
              "    </tr>\n",
              "    <tr>\n",
              "      <th>132</th>\n",
              "      <td>mT2.jpg</td>\n",
              "      <td>12</td>\n",
              "    </tr>\n",
              "    <tr>\n",
              "      <th>133</th>\n",
              "      <td>mT12.jpg</td>\n",
              "      <td>9</td>\n",
              "    </tr>\n",
              "    <tr>\n",
              "      <th>134</th>\n",
              "      <td>mT16.jpg</td>\n",
              "      <td>12</td>\n",
              "    </tr>\n",
              "    <tr>\n",
              "      <th>135</th>\n",
              "      <td>mT19.jpg</td>\n",
              "      <td>0</td>\n",
              "    </tr>\n",
              "    <tr>\n",
              "      <th>136</th>\n",
              "      <td>mT21.jpg</td>\n",
              "      <td>0</td>\n",
              "    </tr>\n",
              "    <tr>\n",
              "      <th>137</th>\n",
              "      <td>mT27.jpg</td>\n",
              "      <td>12</td>\n",
              "    </tr>\n",
              "    <tr>\n",
              "      <th>138</th>\n",
              "      <td>mT37.jpg</td>\n",
              "      <td>12</td>\n",
              "    </tr>\n",
              "    <tr>\n",
              "      <th>139</th>\n",
              "      <td>nT9.jpg</td>\n",
              "      <td>13</td>\n",
              "    </tr>\n",
              "    <tr>\n",
              "      <th>140</th>\n",
              "      <td>nT14.jpg</td>\n",
              "      <td>13</td>\n",
              "    </tr>\n",
              "    <tr>\n",
              "      <th>141</th>\n",
              "      <td>nT20.jpg</td>\n",
              "      <td>13</td>\n",
              "    </tr>\n",
              "    <tr>\n",
              "      <th>142</th>\n",
              "      <td>nT21.jpg</td>\n",
              "      <td>13</td>\n",
              "    </tr>\n",
              "    <tr>\n",
              "      <th>143</th>\n",
              "      <td>nT25.jpg</td>\n",
              "      <td>7</td>\n",
              "    </tr>\n",
              "    <tr>\n",
              "      <th>144</th>\n",
              "      <td>nT32.jpg</td>\n",
              "      <td>13</td>\n",
              "    </tr>\n",
              "    <tr>\n",
              "      <th>145</th>\n",
              "      <td>nT35.jpg</td>\n",
              "      <td>13</td>\n",
              "    </tr>\n",
              "  </tbody>\n",
              "</table>\n",
              "<p>146 rows × 2 columns</p>\n",
              "</div>"
            ],
            "text/plain": [
              "            Id  Category\n",
              "0      aT1.jpg         7\n",
              "1      aT2.jpg         0\n",
              "2      aT5.jpg         0\n",
              "3     aT17.jpg         0\n",
              "4     aT21.jpg         6\n",
              "5     aT31.jpg         7\n",
              "6     aT33.jpg         7\n",
              "7     aT34.jpg        11\n",
              "8     aT47.jpg         0\n",
              "9     aT55.jpg         0\n",
              "10    aT61.jpg         0\n",
              "11    aT68.jpg         0\n",
              "12    aT74.jpg         0\n",
              "13    aT75.jpg         0\n",
              "14    aT80.jpg         0\n",
              "15    aT83.jpg         0\n",
              "16    aT84.jpg         0\n",
              "17    aT94.jpg         0\n",
              "18    aT99.jpg         0\n",
              "19   aT100.jpg         0\n",
              "20   aT104.jpg         0\n",
              "21     bT6.jpg        10\n",
              "22    bT12.jpg        12\n",
              "23    bT17.jpg        10\n",
              "24    bT18.jpg        10\n",
              "25    bT23.jpg        12\n",
              "26    bT26.jpg         7\n",
              "27    bT29.jpg         5\n",
              "28    bT40.jpg        10\n",
              "29    bT50.jpg        10\n",
              "..         ...       ...\n",
              "116   lT14.jpg        11\n",
              "117   lT18.jpg         7\n",
              "118   lT26.jpg         7\n",
              "119   lT27.jpg        11\n",
              "120   lT29.jpg        11\n",
              "121   lT30.jpg         9\n",
              "122   lT31.jpg         7\n",
              "123   lT35.jpg        11\n",
              "124   lT39.jpg        11\n",
              "125   lT42.jpg        11\n",
              "126   lT67.jpg        11\n",
              "127   lT75.jpg         7\n",
              "128   lT76.jpg         7\n",
              "129   lT77.jpg         7\n",
              "130   lT81.jpg        11\n",
              "131   lT85.jpg        11\n",
              "132    mT2.jpg        12\n",
              "133   mT12.jpg         9\n",
              "134   mT16.jpg        12\n",
              "135   mT19.jpg         0\n",
              "136   mT21.jpg         0\n",
              "137   mT27.jpg        12\n",
              "138   mT37.jpg        12\n",
              "139    nT9.jpg        13\n",
              "140   nT14.jpg        13\n",
              "141   nT20.jpg        13\n",
              "142   nT21.jpg        13\n",
              "143   nT25.jpg         7\n",
              "144   nT32.jpg        13\n",
              "145   nT35.jpg        13\n",
              "\n",
              "[146 rows x 2 columns]"
            ]
          },
          "metadata": {
            "tags": []
          },
          "execution_count": 117
        }
      ]
    }
  ]
}