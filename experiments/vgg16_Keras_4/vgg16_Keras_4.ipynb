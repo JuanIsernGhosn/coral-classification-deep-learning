{
 "cells": [
  {
   "cell_type": "code",
   "execution_count": 0,
   "metadata": {
    "colab": {
     "base_uri": "https://localhost:8080/",
     "height": 34
    },
    "colab_type": "code",
    "id": "Vv25xKciEepB",
    "outputId": "792dca4d-b5af-4ab4-c3a6-c26706198b69"
   },
   "outputs": [
    {
     "name": "stdout",
     "output_type": "stream",
     "text": [
      "fatal: destination path 'coral-classification' already exists and is not an empty directory.\n"
     ]
    }
   ],
   "source": [
    "!git clone https://github.com/JuanIsernGhosn/coral-classification"
   ]
  },
  {
   "cell_type": "code",
   "execution_count": 0,
   "metadata": {
    "colab": {},
    "colab_type": "code",
    "id": "soFFmp4a-x2S"
   },
   "outputs": [],
   "source": [
    "experiment = \"coral-classification-deep-learning/experiments/vgg16_Keras_2/\""
   ]
  },
  {
   "cell_type": "code",
   "execution_count": 0,
   "metadata": {
    "colab": {
     "base_uri": "https://localhost:8080/",
     "height": 34
    },
    "colab_type": "code",
    "id": "b2ZcplHO_Uya",
    "outputId": "adc2f439-5873-43fa-a932-83bf9e66df26"
   },
   "outputs": [
    {
     "name": "stderr",
     "output_type": "stream",
     "text": [
      "Using TensorFlow backend.\n"
     ]
    }
   ],
   "source": [
    "# Imports\n",
    "import numpy as np\n",
    "import os\n",
    "import cv2\n",
    "import matplotlib.pyplot as plt\n",
    "import tensorflow as tf\n",
    "from tensorflow.python.framework import ops\n",
    "from tensorflow.python.framework import dtypes\n",
    "import numpy\n",
    "import math\n",
    "import pandas as pd\n",
    "import os\n",
    "from keras.preprocessing.image import ImageDataGenerator\n",
    "from keras.models import Sequential, Model\n",
    "from keras.layers import Input, Dense, Dropout, Flatten, Activation, merge\n",
    "from keras.layers import Conv2D, MaxPooling2D, UpSampling2D, ZeroPadding2D, GlobalAveragePooling2D\n",
    "from keras.layers.normalization import BatchNormalization\n",
    "from keras.optimizers import SGD, Adam\n",
    "import keras.backend as K\n",
    "from natsort import natsorted, ns\n",
    "import keras\n",
    "import PIL\n",
    "from keras.regularizers import l2\n",
    "from glob import glob\n",
    "from keras.applications import vgg16\n",
    "from keras.utils import to_categorical\n",
    "from keras.callbacks import EarlyStopping"
   ]
  },
  {
   "cell_type": "code",
   "execution_count": 0,
   "metadata": {
    "colab": {},
    "colab_type": "code",
    "id": "ZQEB9usCecLE"
   },
   "outputs": [],
   "source": [
    "# Fijar las semillas\n",
    "seed = 2032 # Semilla del numpy\n",
    "tf.set_random_seed(seed)# Fijar semilla del keras/tensorflow\n",
    "\n",
    "epochs = 1000\n",
    "batch_size = 32\n",
    "\n",
    "model_name = 'model.h5'"
   ]
  },
  {
   "cell_type": "code",
   "execution_count": 0,
   "metadata": {
    "colab": {},
    "colab_type": "code",
    "id": "p_NqWAC0CL7-"
   },
   "outputs": [],
   "source": [
    "# Train and test directories\n",
    "train_dir = \"coral-classification/coral_img/train/\"\n",
    "test_dir = \"coral-classification/coral_img/Test_Mixed/\""
   ]
  },
  {
   "cell_type": "code",
   "execution_count": 0,
   "metadata": {
    "colab": {
     "base_uri": "https://localhost:8080/",
     "height": 34
    },
    "colab_type": "code",
    "id": "o7HiUjB1e8Cz",
    "outputId": "b044c950-c358-4a7f-d851-40ce04f5b560"
   },
   "outputs": [
    {
     "name": "stdout",
     "output_type": "stream",
     "text": [
      "['ACER', 'APAL', 'CNAT', 'DANT', 'DSTR', 'GORG', 'MALC', 'MCAV', 'MMEA', 'MONT', 'PALY', 'SPO', 'SSID', 'TUNI']\n"
     ]
    }
   ],
   "source": [
    "# Classes\n",
    "clases = sorted(os.listdir(train_dir))\n",
    "print(clases)\n",
    "\n",
    "x_train = np.array([cv2.imread(os.path.join(train_dir, cl, name)) for cl in clases\n",
    "           for name in os.listdir(os.path.join(train_dir, cl))])\n",
    "y_train = np.array([n for n, cl in enumerate(clases)\n",
    "           for name in os.listdir(os.path.join(train_dir, cl))])\n",
    "\n",
    "idx = np.random.permutation(len(x_train))\n",
    "x_train, y_train = x_train[idx], y_train[idx]\n",
    "\n",
    "test_files = natsorted(os.listdir(test_dir))\n",
    "\n",
    "x_test = np.array([cv2.imread(os.path.join(test_dir, name)) \n",
    "                   for name in test_files])"
   ]
  },
  {
   "cell_type": "code",
   "execution_count": 0,
   "metadata": {
    "colab": {
     "base_uri": "https://localhost:8080/",
     "height": 68
    },
    "colab_type": "code",
    "id": "dRNhQRcFe_-i",
    "outputId": "83460d65-5c87-4036-c333-2d83246e36f3"
   },
   "outputs": [
    {
     "name": "stdout",
     "output_type": "stream",
     "text": [
      "(620, 256, 256, 3)\n",
      "14\n",
      "(620, 14)\n"
     ]
    }
   ],
   "source": [
    "\n",
    "x_train = x_train.astype('float32')\n",
    "x_train /= 255\n",
    "\n",
    "x_test = x_test.astype('float32')\n",
    "x_test /= 255\n",
    "\n",
    "y_train = to_categorical(y_train, dtype=int)\n",
    "\n",
    "print(x_train.shape)\n",
    "print(len(clases))\n",
    "print(y_train.shape)"
   ]
  },
  {
   "cell_type": "code",
   "execution_count": 0,
   "metadata": {
    "colab": {},
    "colab_type": "code",
    "id": "wI4HZ23tf1-Q"
   },
   "outputs": [],
   "source": [
    "datagen = ImageDataGenerator(\n",
    "    rotation_range=20,\n",
    "    shear_range=0.2,\n",
    "    zoom_range=0.2,\n",
    "    horizontal_flip=True,\n",
    "    validation_split=0.2,\n",
    "    fill_mode='nearest'\n",
    ")"
   ]
  },
  {
   "cell_type": "code",
   "execution_count": 0,
   "metadata": {
    "colab": {
     "base_uri": "https://localhost:8080/",
     "height": 88
    },
    "colab_type": "code",
    "id": "qhNg9eqNgLip",
    "outputId": "aeb9b362-c211-4c60-828b-9103ce6d4479"
   },
   "outputs": [
    {
     "name": "stdout",
     "output_type": "stream",
     "text": [
      "WARNING:tensorflow:From /usr/local/lib/python3.6/dist-packages/tensorflow/python/framework/op_def_library.py:263: colocate_with (from tensorflow.python.framework.ops) is deprecated and will be removed in a future version.\n",
      "Instructions for updating:\n",
      "Colocations handled automatically by placer.\n"
     ]
    }
   ],
   "source": [
    "# create the base pre-trained model\n",
    "base_model = vgg16.VGG16(weights='imagenet',include_top=False, input_shape=(256,256,3))"
   ]
  },
  {
   "cell_type": "code",
   "execution_count": 0,
   "metadata": {
    "colab": {
     "base_uri": "https://localhost:8080/",
     "height": 782
    },
    "colab_type": "code",
    "id": "du8Eh-LqkYG8",
    "outputId": "cf8d6c1e-88b7-4cfc-ac81-9e2e28a0643c"
   },
   "outputs": [
    {
     "name": "stdout",
     "output_type": "stream",
     "text": [
      "_________________________________________________________________\n",
      "Layer (type)                 Output Shape              Param #   \n",
      "=================================================================\n",
      "input_1 (InputLayer)         (None, 256, 256, 3)       0         \n",
      "_________________________________________________________________\n",
      "block1_conv1 (Conv2D)        (None, 256, 256, 64)      1792      \n",
      "_________________________________________________________________\n",
      "block1_conv2 (Conv2D)        (None, 256, 256, 64)      36928     \n",
      "_________________________________________________________________\n",
      "block1_pool (MaxPooling2D)   (None, 128, 128, 64)      0         \n",
      "_________________________________________________________________\n",
      "block2_conv1 (Conv2D)        (None, 128, 128, 128)     73856     \n",
      "_________________________________________________________________\n",
      "block2_conv2 (Conv2D)        (None, 128, 128, 128)     147584    \n",
      "_________________________________________________________________\n",
      "block2_pool (MaxPooling2D)   (None, 64, 64, 128)       0         \n",
      "_________________________________________________________________\n",
      "block3_conv1 (Conv2D)        (None, 64, 64, 256)       295168    \n",
      "_________________________________________________________________\n",
      "block3_conv2 (Conv2D)        (None, 64, 64, 256)       590080    \n",
      "_________________________________________________________________\n",
      "block3_conv3 (Conv2D)        (None, 64, 64, 256)       590080    \n",
      "_________________________________________________________________\n",
      "block3_pool (MaxPooling2D)   (None, 32, 32, 256)       0         \n",
      "_________________________________________________________________\n",
      "block4_conv1 (Conv2D)        (None, 32, 32, 512)       1180160   \n",
      "_________________________________________________________________\n",
      "block4_conv2 (Conv2D)        (None, 32, 32, 512)       2359808   \n",
      "_________________________________________________________________\n",
      "block4_conv3 (Conv2D)        (None, 32, 32, 512)       2359808   \n",
      "_________________________________________________________________\n",
      "block4_pool (MaxPooling2D)   (None, 16, 16, 512)       0         \n",
      "_________________________________________________________________\n",
      "block5_conv1 (Conv2D)        (None, 16, 16, 512)       2359808   \n",
      "_________________________________________________________________\n",
      "block5_conv2 (Conv2D)        (None, 16, 16, 512)       2359808   \n",
      "_________________________________________________________________\n",
      "block5_conv3 (Conv2D)        (None, 16, 16, 512)       2359808   \n",
      "_________________________________________________________________\n",
      "block5_pool (MaxPooling2D)   (None, 8, 8, 512)         0         \n",
      "=================================================================\n",
      "Total params: 14,714,688\n",
      "Trainable params: 14,714,688\n",
      "Non-trainable params: 0\n",
      "_________________________________________________________________\n"
     ]
    }
   ],
   "source": [
    "base_model.summary()"
   ]
  },
  {
   "cell_type": "code",
   "execution_count": 0,
   "metadata": {
    "colab": {},
    "colab_type": "code",
    "id": "-Y8xutkmkQe2"
   },
   "outputs": [],
   "source": [
    "x=base_model.output\n",
    "x=Conv2D(512, (8, 8), activation='relu')(x)\n",
    "#x=MaxPooling2D(pool_size=(2, 2))(x)\n",
    "x=Dropout(rate=0.25)(x)\n",
    "x=Flatten()(x)\n",
    "x=Dense(512,activation='relu')(x) #dense layer 3\n",
    "preds=Dense(14,activation='softmax')(x) #final layer with softmax activation\n",
    "\n",
    "model=Model(inputs=base_model.input, outputs=preds)"
   ]
  },
  {
   "cell_type": "code",
   "execution_count": 0,
   "metadata": {
    "colab": {
     "base_uri": "https://localhost:8080/",
     "height": 425
    },
    "colab_type": "code",
    "id": "iYPSs4WQgi8o",
    "outputId": "6e28c3c0-ee08-4c89-cc0f-415098df4b5a"
   },
   "outputs": [
    {
     "name": "stdout",
     "output_type": "stream",
     "text": [
      "0 input_1\n",
      "1 block1_conv1\n",
      "2 block1_conv2\n",
      "3 block1_pool\n",
      "4 block2_conv1\n",
      "5 block2_conv2\n",
      "6 block2_pool\n",
      "7 block3_conv1\n",
      "8 block3_conv2\n",
      "9 block3_conv3\n",
      "10 block3_pool\n",
      "11 block4_conv1\n",
      "12 block4_conv2\n",
      "13 block4_conv3\n",
      "14 block4_pool\n",
      "15 block5_conv1\n",
      "16 block5_conv2\n",
      "17 block5_conv3\n",
      "18 block5_pool\n",
      "19 conv2d_11\n",
      "20 dropout_3\n",
      "21 flatten_3\n",
      "22 dense_5\n",
      "23 dense_6\n"
     ]
    }
   ],
   "source": [
    "for i,layer in enumerate(model.layers):\n",
    "  print(i,layer.name)"
   ]
  },
  {
   "cell_type": "code",
   "execution_count": 0,
   "metadata": {
    "colab": {},
    "colab_type": "code",
    "id": "LlBXWTlah6qN"
   },
   "outputs": [],
   "source": [
    "# first: train only the top layers (which were randomly initialized)\n",
    "# i.e. freeze all convolutional InceptionV3 layers\n",
    "for layer in model.layers[:19]:\n",
    "    layer.trainable=False\n",
    "for layer in model.layers[19:]:\n",
    "    layer.trainable=True\n",
    "\n",
    "# compile the model (should be done *after* setting layers to non-trainable)\n",
    "model.compile(optimizer=Adam(lr=0.001), \n",
    "              loss='categorical_crossentropy', metrics=['accuracy'])"
   ]
  },
  {
   "cell_type": "code",
   "execution_count": 0,
   "metadata": {
    "colab": {},
    "colab_type": "code",
    "id": "yMwIUfWoinE2"
   },
   "outputs": [],
   "source": [
    "es = EarlyStopping(monitor='val_loss', mode='min', min_delta=0, patience=15)"
   ]
  },
  {
   "cell_type": "code",
   "execution_count": 0,
   "metadata": {
    "colab": {
     "base_uri": "https://localhost:8080/",
     "height": 649
    },
    "colab_type": "code",
    "id": "PKYLsn48i2UU",
    "outputId": "44d61938-d0ba-4f74-a42a-2ac2ca3fe40e"
   },
   "outputs": [
    {
     "name": "stdout",
     "output_type": "stream",
     "text": [
      "Epoch 1/1000\n",
      "16/15 [==============================] - 12s 749ms/step - loss: 0.3025 - acc: 0.9045 - val_loss: 0.4512 - val_acc: 0.8306\n",
      "Epoch 2/1000\n",
      "16/15 [==============================] - 10s 639ms/step - loss: 0.2675 - acc: 0.9080 - val_loss: 0.5816 - val_acc: 0.7823\n",
      "Epoch 3/1000\n",
      "16/15 [==============================] - 10s 649ms/step - loss: 0.2968 - acc: 0.9006 - val_loss: 0.7186 - val_acc: 0.8065\n",
      "Epoch 4/1000\n",
      "16/15 [==============================] - 10s 643ms/step - loss: 0.3054 - acc: 0.8789 - val_loss: 0.5612 - val_acc: 0.8226\n",
      "Epoch 5/1000\n",
      "16/15 [==============================] - 10s 637ms/step - loss: 0.3333 - acc: 0.8905 - val_loss: 0.6303 - val_acc: 0.8306\n",
      "Epoch 6/1000\n",
      "16/15 [==============================] - 10s 638ms/step - loss: 0.3335 - acc: 0.8770 - val_loss: 0.5942 - val_acc: 0.8145\n",
      "Epoch 7/1000\n",
      "16/15 [==============================] - 10s 635ms/step - loss: 0.3234 - acc: 0.9022 - val_loss: 0.6148 - val_acc: 0.8065\n",
      "Epoch 8/1000\n",
      "16/15 [==============================] - 10s 635ms/step - loss: 0.2645 - acc: 0.9121 - val_loss: 0.6622 - val_acc: 0.7903\n",
      "Epoch 9/1000\n",
      "16/15 [==============================] - 10s 646ms/step - loss: 0.2748 - acc: 0.8965 - val_loss: 0.4345 - val_acc: 0.8226\n",
      "Epoch 10/1000\n",
      "16/15 [==============================] - 10s 645ms/step - loss: 0.1936 - acc: 0.9337 - val_loss: 0.4513 - val_acc: 0.8548\n",
      "Epoch 11/1000\n",
      "16/15 [==============================] - 10s 645ms/step - loss: 0.1990 - acc: 0.9256 - val_loss: 0.4087 - val_acc: 0.8468\n",
      "Epoch 12/1000\n",
      "16/15 [==============================] - 10s 636ms/step - loss: 0.1730 - acc: 0.9472 - val_loss: 0.4386 - val_acc: 0.8306\n",
      "Epoch 13/1000\n",
      "16/15 [==============================] - 10s 644ms/step - loss: 0.1903 - acc: 0.9354 - val_loss: 0.3735 - val_acc: 0.8548\n",
      "Epoch 14/1000\n",
      "16/15 [==============================] - 10s 643ms/step - loss: 0.1797 - acc: 0.9436 - val_loss: 0.5236 - val_acc: 0.8387\n",
      "Epoch 15/1000\n",
      "16/15 [==============================] - 10s 637ms/step - loss: 0.1553 - acc: 0.9494 - val_loss: 0.3851 - val_acc: 0.8629\n",
      "Epoch 16/1000\n",
      "16/15 [==============================] - 10s 638ms/step - loss: 0.2148 - acc: 0.9276 - val_loss: 0.6928 - val_acc: 0.8065\n",
      "Epoch 17/1000\n",
      "16/15 [==============================] - 10s 631ms/step - loss: 0.2335 - acc: 0.9218 - val_loss: 0.3527 - val_acc: 0.8387\n",
      "Epoch 18/1000\n",
      "16/15 [==============================] - 10s 634ms/step - loss: 0.2035 - acc: 0.9336 - val_loss: 0.4145 - val_acc: 0.8871\n"
     ]
    }
   ],
   "source": [
    "# compute quantities required for featurewise normalization\n",
    "# (std, mean, and principal components if ZCA whitening is applied)\n",
    "datagen.fit(x_train)\n",
    "\n",
    "\n",
    "# fits the model on batches with real-time data augmentation:\n",
    "model.fit_generator(datagen.flow(x_train, y_train, batch_size=batch_size, subset=\"training\"),\n",
    "                   steps_per_epoch=int(len(x_train)*0.8) / batch_size, epochs=epochs,\n",
    "                   validation_data = datagen.flow(x_train, y_train, batch_size=batch_size, subset='validation'),\n",
    "                   validation_steps = int(len(x_train)*0.2) / batch_size,\n",
    "                   verbose=1, callbacks=[es])\n",
    "\n",
    "model.save(model_name)"
   ]
  },
  {
   "cell_type": "code",
   "execution_count": 0,
   "metadata": {
    "colab": {
     "base_uri": "https://localhost:8080/",
     "height": 34
    },
    "colab_type": "code",
    "id": "zJqyqluISfEe",
    "outputId": "03665145-e773-4718-eddb-b0e1b41840ee"
   },
   "outputs": [
    {
     "name": "stdout",
     "output_type": "stream",
     "text": [
      "146/146 [==============================] - 2s 13ms/step\n"
     ]
    }
   ],
   "source": [
    "predictions_test = model.predict(x_test, verbose=1)\n",
    "\n",
    "data = pd.DataFrame()\n",
    "data['Id'] = test_files\n",
    "data['Category'] = predictions_test.argmax(axis=-1)\n",
    "\n",
    "\n",
    "data.to_csv(\"envio.csv\", index=False)"
   ]
  },
  {
   "cell_type": "code",
   "execution_count": 0,
   "metadata": {
    "colab": {
     "base_uri": "https://localhost:8080/",
     "height": 1969
    },
    "colab_type": "code",
    "id": "62v--Nc3HJpa",
    "outputId": "63b25b4a-3822-4a62-d6ec-2af64e786de5"
   },
   "outputs": [
    {
     "data": {
      "text/html": [
       "<div>\n",
       "<style scoped>\n",
       "    .dataframe tbody tr th:only-of-type {\n",
       "        vertical-align: middle;\n",
       "    }\n",
       "\n",
       "    .dataframe tbody tr th {\n",
       "        vertical-align: top;\n",
       "    }\n",
       "\n",
       "    .dataframe thead th {\n",
       "        text-align: right;\n",
       "    }\n",
       "</style>\n",
       "<table border=\"1\" class=\"dataframe\">\n",
       "  <thead>\n",
       "    <tr style=\"text-align: right;\">\n",
       "      <th></th>\n",
       "      <th>Id</th>\n",
       "      <th>Category</th>\n",
       "    </tr>\n",
       "  </thead>\n",
       "  <tbody>\n",
       "    <tr>\n",
       "      <th>0</th>\n",
       "      <td>aT1.jpg</td>\n",
       "      <td>0</td>\n",
       "    </tr>\n",
       "    <tr>\n",
       "      <th>1</th>\n",
       "      <td>aT2.jpg</td>\n",
       "      <td>0</td>\n",
       "    </tr>\n",
       "    <tr>\n",
       "      <th>2</th>\n",
       "      <td>aT5.jpg</td>\n",
       "      <td>0</td>\n",
       "    </tr>\n",
       "    <tr>\n",
       "      <th>3</th>\n",
       "      <td>aT17.jpg</td>\n",
       "      <td>0</td>\n",
       "    </tr>\n",
       "    <tr>\n",
       "      <th>4</th>\n",
       "      <td>aT21.jpg</td>\n",
       "      <td>1</td>\n",
       "    </tr>\n",
       "    <tr>\n",
       "      <th>5</th>\n",
       "      <td>aT31.jpg</td>\n",
       "      <td>3</td>\n",
       "    </tr>\n",
       "    <tr>\n",
       "      <th>6</th>\n",
       "      <td>aT33.jpg</td>\n",
       "      <td>10</td>\n",
       "    </tr>\n",
       "    <tr>\n",
       "      <th>7</th>\n",
       "      <td>aT34.jpg</td>\n",
       "      <td>0</td>\n",
       "    </tr>\n",
       "    <tr>\n",
       "      <th>8</th>\n",
       "      <td>aT47.jpg</td>\n",
       "      <td>0</td>\n",
       "    </tr>\n",
       "    <tr>\n",
       "      <th>9</th>\n",
       "      <td>aT55.jpg</td>\n",
       "      <td>0</td>\n",
       "    </tr>\n",
       "    <tr>\n",
       "      <th>10</th>\n",
       "      <td>aT61.jpg</td>\n",
       "      <td>0</td>\n",
       "    </tr>\n",
       "    <tr>\n",
       "      <th>11</th>\n",
       "      <td>aT68.jpg</td>\n",
       "      <td>0</td>\n",
       "    </tr>\n",
       "    <tr>\n",
       "      <th>12</th>\n",
       "      <td>aT74.jpg</td>\n",
       "      <td>0</td>\n",
       "    </tr>\n",
       "    <tr>\n",
       "      <th>13</th>\n",
       "      <td>aT75.jpg</td>\n",
       "      <td>0</td>\n",
       "    </tr>\n",
       "    <tr>\n",
       "      <th>14</th>\n",
       "      <td>aT80.jpg</td>\n",
       "      <td>0</td>\n",
       "    </tr>\n",
       "    <tr>\n",
       "      <th>15</th>\n",
       "      <td>aT83.jpg</td>\n",
       "      <td>0</td>\n",
       "    </tr>\n",
       "    <tr>\n",
       "      <th>16</th>\n",
       "      <td>aT84.jpg</td>\n",
       "      <td>0</td>\n",
       "    </tr>\n",
       "    <tr>\n",
       "      <th>17</th>\n",
       "      <td>aT94.jpg</td>\n",
       "      <td>0</td>\n",
       "    </tr>\n",
       "    <tr>\n",
       "      <th>18</th>\n",
       "      <td>aT99.jpg</td>\n",
       "      <td>0</td>\n",
       "    </tr>\n",
       "    <tr>\n",
       "      <th>19</th>\n",
       "      <td>aT100.jpg</td>\n",
       "      <td>0</td>\n",
       "    </tr>\n",
       "    <tr>\n",
       "      <th>20</th>\n",
       "      <td>aT104.jpg</td>\n",
       "      <td>0</td>\n",
       "    </tr>\n",
       "    <tr>\n",
       "      <th>21</th>\n",
       "      <td>bT6.jpg</td>\n",
       "      <td>1</td>\n",
       "    </tr>\n",
       "    <tr>\n",
       "      <th>22</th>\n",
       "      <td>bT12.jpg</td>\n",
       "      <td>1</td>\n",
       "    </tr>\n",
       "    <tr>\n",
       "      <th>23</th>\n",
       "      <td>bT17.jpg</td>\n",
       "      <td>1</td>\n",
       "    </tr>\n",
       "    <tr>\n",
       "      <th>24</th>\n",
       "      <td>bT18.jpg</td>\n",
       "      <td>1</td>\n",
       "    </tr>\n",
       "    <tr>\n",
       "      <th>25</th>\n",
       "      <td>bT23.jpg</td>\n",
       "      <td>1</td>\n",
       "    </tr>\n",
       "    <tr>\n",
       "      <th>26</th>\n",
       "      <td>bT26.jpg</td>\n",
       "      <td>1</td>\n",
       "    </tr>\n",
       "    <tr>\n",
       "      <th>27</th>\n",
       "      <td>bT29.jpg</td>\n",
       "      <td>1</td>\n",
       "    </tr>\n",
       "    <tr>\n",
       "      <th>28</th>\n",
       "      <td>bT40.jpg</td>\n",
       "      <td>1</td>\n",
       "    </tr>\n",
       "    <tr>\n",
       "      <th>29</th>\n",
       "      <td>bT50.jpg</td>\n",
       "      <td>1</td>\n",
       "    </tr>\n",
       "    <tr>\n",
       "      <th>...</th>\n",
       "      <td>...</td>\n",
       "      <td>...</td>\n",
       "    </tr>\n",
       "    <tr>\n",
       "      <th>116</th>\n",
       "      <td>lT14.jpg</td>\n",
       "      <td>11</td>\n",
       "    </tr>\n",
       "    <tr>\n",
       "      <th>117</th>\n",
       "      <td>lT18.jpg</td>\n",
       "      <td>11</td>\n",
       "    </tr>\n",
       "    <tr>\n",
       "      <th>118</th>\n",
       "      <td>lT26.jpg</td>\n",
       "      <td>11</td>\n",
       "    </tr>\n",
       "    <tr>\n",
       "      <th>119</th>\n",
       "      <td>lT27.jpg</td>\n",
       "      <td>11</td>\n",
       "    </tr>\n",
       "    <tr>\n",
       "      <th>120</th>\n",
       "      <td>lT29.jpg</td>\n",
       "      <td>11</td>\n",
       "    </tr>\n",
       "    <tr>\n",
       "      <th>121</th>\n",
       "      <td>lT30.jpg</td>\n",
       "      <td>11</td>\n",
       "    </tr>\n",
       "    <tr>\n",
       "      <th>122</th>\n",
       "      <td>lT31.jpg</td>\n",
       "      <td>11</td>\n",
       "    </tr>\n",
       "    <tr>\n",
       "      <th>123</th>\n",
       "      <td>lT35.jpg</td>\n",
       "      <td>11</td>\n",
       "    </tr>\n",
       "    <tr>\n",
       "      <th>124</th>\n",
       "      <td>lT39.jpg</td>\n",
       "      <td>11</td>\n",
       "    </tr>\n",
       "    <tr>\n",
       "      <th>125</th>\n",
       "      <td>lT42.jpg</td>\n",
       "      <td>11</td>\n",
       "    </tr>\n",
       "    <tr>\n",
       "      <th>126</th>\n",
       "      <td>lT67.jpg</td>\n",
       "      <td>11</td>\n",
       "    </tr>\n",
       "    <tr>\n",
       "      <th>127</th>\n",
       "      <td>lT75.jpg</td>\n",
       "      <td>11</td>\n",
       "    </tr>\n",
       "    <tr>\n",
       "      <th>128</th>\n",
       "      <td>lT76.jpg</td>\n",
       "      <td>11</td>\n",
       "    </tr>\n",
       "    <tr>\n",
       "      <th>129</th>\n",
       "      <td>lT77.jpg</td>\n",
       "      <td>11</td>\n",
       "    </tr>\n",
       "    <tr>\n",
       "      <th>130</th>\n",
       "      <td>lT81.jpg</td>\n",
       "      <td>11</td>\n",
       "    </tr>\n",
       "    <tr>\n",
       "      <th>131</th>\n",
       "      <td>lT85.jpg</td>\n",
       "      <td>11</td>\n",
       "    </tr>\n",
       "    <tr>\n",
       "      <th>132</th>\n",
       "      <td>mT2.jpg</td>\n",
       "      <td>12</td>\n",
       "    </tr>\n",
       "    <tr>\n",
       "      <th>133</th>\n",
       "      <td>mT12.jpg</td>\n",
       "      <td>1</td>\n",
       "    </tr>\n",
       "    <tr>\n",
       "      <th>134</th>\n",
       "      <td>mT16.jpg</td>\n",
       "      <td>12</td>\n",
       "    </tr>\n",
       "    <tr>\n",
       "      <th>135</th>\n",
       "      <td>mT19.jpg</td>\n",
       "      <td>12</td>\n",
       "    </tr>\n",
       "    <tr>\n",
       "      <th>136</th>\n",
       "      <td>mT21.jpg</td>\n",
       "      <td>12</td>\n",
       "    </tr>\n",
       "    <tr>\n",
       "      <th>137</th>\n",
       "      <td>mT27.jpg</td>\n",
       "      <td>12</td>\n",
       "    </tr>\n",
       "    <tr>\n",
       "      <th>138</th>\n",
       "      <td>mT37.jpg</td>\n",
       "      <td>12</td>\n",
       "    </tr>\n",
       "    <tr>\n",
       "      <th>139</th>\n",
       "      <td>nT9.jpg</td>\n",
       "      <td>11</td>\n",
       "    </tr>\n",
       "    <tr>\n",
       "      <th>140</th>\n",
       "      <td>nT14.jpg</td>\n",
       "      <td>13</td>\n",
       "    </tr>\n",
       "    <tr>\n",
       "      <th>141</th>\n",
       "      <td>nT20.jpg</td>\n",
       "      <td>13</td>\n",
       "    </tr>\n",
       "    <tr>\n",
       "      <th>142</th>\n",
       "      <td>nT21.jpg</td>\n",
       "      <td>13</td>\n",
       "    </tr>\n",
       "    <tr>\n",
       "      <th>143</th>\n",
       "      <td>nT25.jpg</td>\n",
       "      <td>13</td>\n",
       "    </tr>\n",
       "    <tr>\n",
       "      <th>144</th>\n",
       "      <td>nT32.jpg</td>\n",
       "      <td>13</td>\n",
       "    </tr>\n",
       "    <tr>\n",
       "      <th>145</th>\n",
       "      <td>nT35.jpg</td>\n",
       "      <td>13</td>\n",
       "    </tr>\n",
       "  </tbody>\n",
       "</table>\n",
       "<p>146 rows × 2 columns</p>\n",
       "</div>"
      ],
      "text/plain": [
       "            Id  Category\n",
       "0      aT1.jpg         0\n",
       "1      aT2.jpg         0\n",
       "2      aT5.jpg         0\n",
       "3     aT17.jpg         0\n",
       "4     aT21.jpg         1\n",
       "5     aT31.jpg         3\n",
       "6     aT33.jpg        10\n",
       "7     aT34.jpg         0\n",
       "8     aT47.jpg         0\n",
       "9     aT55.jpg         0\n",
       "10    aT61.jpg         0\n",
       "11    aT68.jpg         0\n",
       "12    aT74.jpg         0\n",
       "13    aT75.jpg         0\n",
       "14    aT80.jpg         0\n",
       "15    aT83.jpg         0\n",
       "16    aT84.jpg         0\n",
       "17    aT94.jpg         0\n",
       "18    aT99.jpg         0\n",
       "19   aT100.jpg         0\n",
       "20   aT104.jpg         0\n",
       "21     bT6.jpg         1\n",
       "22    bT12.jpg         1\n",
       "23    bT17.jpg         1\n",
       "24    bT18.jpg         1\n",
       "25    bT23.jpg         1\n",
       "26    bT26.jpg         1\n",
       "27    bT29.jpg         1\n",
       "28    bT40.jpg         1\n",
       "29    bT50.jpg         1\n",
       "..         ...       ...\n",
       "116   lT14.jpg        11\n",
       "117   lT18.jpg        11\n",
       "118   lT26.jpg        11\n",
       "119   lT27.jpg        11\n",
       "120   lT29.jpg        11\n",
       "121   lT30.jpg        11\n",
       "122   lT31.jpg        11\n",
       "123   lT35.jpg        11\n",
       "124   lT39.jpg        11\n",
       "125   lT42.jpg        11\n",
       "126   lT67.jpg        11\n",
       "127   lT75.jpg        11\n",
       "128   lT76.jpg        11\n",
       "129   lT77.jpg        11\n",
       "130   lT81.jpg        11\n",
       "131   lT85.jpg        11\n",
       "132    mT2.jpg        12\n",
       "133   mT12.jpg         1\n",
       "134   mT16.jpg        12\n",
       "135   mT19.jpg        12\n",
       "136   mT21.jpg        12\n",
       "137   mT27.jpg        12\n",
       "138   mT37.jpg        12\n",
       "139    nT9.jpg        11\n",
       "140   nT14.jpg        13\n",
       "141   nT20.jpg        13\n",
       "142   nT21.jpg        13\n",
       "143   nT25.jpg        13\n",
       "144   nT32.jpg        13\n",
       "145   nT35.jpg        13\n",
       "\n",
       "[146 rows x 2 columns]"
      ]
     },
     "execution_count": 34,
     "metadata": {
      "tags": []
     },
     "output_type": "execute_result"
    }
   ],
   "source": [
    "data"
   ]
  }
 ],
 "metadata": {
  "accelerator": "GPU",
  "colab": {
   "collapsed_sections": [],
   "name": "vgg16_Keras_4.ipynb",
   "provenance": [],
   "version": "0.3.2"
  },
  "kernelspec": {
   "display_name": "Python 3",
   "language": "python",
   "name": "python3"
  },
  "language_info": {
   "codemirror_mode": {
    "name": "ipython",
    "version": 3
   },
   "file_extension": ".py",
   "mimetype": "text/x-python",
   "name": "python",
   "nbconvert_exporter": "python",
   "pygments_lexer": "ipython3",
   "version": "3.6.7"
  }
 },
 "nbformat": 4,
 "nbformat_minor": 1
}
