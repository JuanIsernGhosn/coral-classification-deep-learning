{
  "nbformat": 4,
  "nbformat_minor": 0,
  "metadata": {
    "colab": {
      "name": "vgg16_Keras_5.ipynb",
      "version": "0.3.2",
      "provenance": [],
      "collapsed_sections": []
    },
    "kernelspec": {
      "name": "python3",
      "display_name": "Python 3"
    },
    "accelerator": "GPU"
  },
  "cells": [
    {
      "metadata": {
        "id": "Vv25xKciEepB",
        "colab_type": "code",
        "outputId": "fd23bef8-0c86-4498-e7e2-a96034bfbd7f",
        "colab": {
          "base_uri": "https://localhost:8080/",
          "height": 34
        }
      },
      "cell_type": "code",
      "source": [
        "!git clone https://github.com/JuanIsernGhosn/coral-classification"
      ],
      "execution_count": 19,
      "outputs": [
        {
          "output_type": "stream",
          "text": [
            "fatal: destination path 'coral-classification' already exists and is not an empty directory.\n"
          ],
          "name": "stdout"
        }
      ]
    },
    {
      "metadata": {
        "id": "soFFmp4a-x2S",
        "colab_type": "code",
        "colab": {}
      },
      "cell_type": "code",
      "source": [
        "experiment = \"coral-classification-deep-learning/experiments/vgg16_Keras_2/\""
      ],
      "execution_count": 0,
      "outputs": []
    },
    {
      "metadata": {
        "id": "b2ZcplHO_Uya",
        "colab_type": "code",
        "colab": {}
      },
      "cell_type": "code",
      "source": [
        "# Imports\n",
        "import numpy as np\n",
        "import os\n",
        "import cv2\n",
        "import matplotlib.pyplot as plt\n",
        "import tensorflow as tf\n",
        "from tensorflow.python.framework import ops\n",
        "from tensorflow.python.framework import dtypes\n",
        "import numpy\n",
        "import math\n",
        "import pandas as pd\n",
        "import os\n",
        "from keras.preprocessing.image import ImageDataGenerator\n",
        "from keras.models import Sequential, Model\n",
        "from keras.layers import Input, Dense, Dropout, Flatten, Activation, merge\n",
        "from keras.layers import Conv2D, MaxPooling2D, UpSampling2D, ZeroPadding2D, GlobalAveragePooling2D\n",
        "from keras.layers.normalization import BatchNormalization\n",
        "from keras.optimizers import SGD, Adam\n",
        "import keras.backend as K\n",
        "from natsort import natsorted, ns\n",
        "import keras\n",
        "import PIL\n",
        "from keras.regularizers import l2\n",
        "from glob import glob\n",
        "from keras.applications import vgg16\n",
        "from keras.utils import to_categorical\n",
        "from keras.callbacks import EarlyStopping"
      ],
      "execution_count": 0,
      "outputs": []
    },
    {
      "metadata": {
        "id": "ZQEB9usCecLE",
        "colab_type": "code",
        "colab": {}
      },
      "cell_type": "code",
      "source": [
        "# Fijar las semillas\n",
        "seed = 2032 # Semilla del numpy\n",
        "tf.set_random_seed(seed)# Fijar semilla del keras/tensorflow\n",
        "\n",
        "epochs = 1000\n",
        "batch_size = 32\n",
        "\n",
        "model_name = 'model.h5'"
      ],
      "execution_count": 0,
      "outputs": []
    },
    {
      "metadata": {
        "id": "p_NqWAC0CL7-",
        "colab_type": "code",
        "colab": {}
      },
      "cell_type": "code",
      "source": [
        "# Train and test directories\n",
        "train_dir = \"coral-classification/coral_img/train/\"\n",
        "test_dir = \"coral-classification/coral_img/Test_Mixed/\""
      ],
      "execution_count": 0,
      "outputs": []
    },
    {
      "metadata": {
        "id": "o7HiUjB1e8Cz",
        "colab_type": "code",
        "outputId": "611ad365-3a1d-4592-9202-32d8d15a2e2d",
        "colab": {
          "base_uri": "https://localhost:8080/",
          "height": 34
        }
      },
      "cell_type": "code",
      "source": [
        "# Classes\n",
        "clases = sorted(os.listdir(train_dir))\n",
        "print(clases)\n",
        "\n",
        "x_train = np.array([cv2.imread(os.path.join(train_dir, cl, name)) for cl in clases\n",
        "           for name in os.listdir(os.path.join(train_dir, cl))])\n",
        "y_train = np.array([n for n, cl in enumerate(clases)\n",
        "           for name in os.listdir(os.path.join(train_dir, cl))])\n",
        "\n",
        "idx = np.random.permutation(len(x_train))\n",
        "x_train, y_train = x_train[idx], y_train[idx]\n",
        "\n",
        "test_files = natsorted(os.listdir(test_dir))\n",
        "\n",
        "x_test = np.array([cv2.imread(os.path.join(test_dir, name)) \n",
        "                   for name in test_files])"
      ],
      "execution_count": 24,
      "outputs": [
        {
          "output_type": "stream",
          "text": [
            "['ACER', 'APAL', 'CNAT', 'DANT', 'DSTR', 'GORG', 'MALC', 'MCAV', 'MMEA', 'MONT', 'PALY', 'SPO', 'SSID', 'TUNI']\n"
          ],
          "name": "stdout"
        }
      ]
    },
    {
      "metadata": {
        "id": "dRNhQRcFe_-i",
        "colab_type": "code",
        "outputId": "84edea90-fd68-4ecb-9328-f278627d3288",
        "colab": {
          "base_uri": "https://localhost:8080/",
          "height": 68
        }
      },
      "cell_type": "code",
      "source": [
        "\n",
        "x_train = x_train.astype('float32')\n",
        "x_train /= 255\n",
        "\n",
        "x_test = x_test.astype('float32')\n",
        "x_test /= 255\n",
        "\n",
        "y_train = to_categorical(y_train, dtype=int)\n",
        "\n",
        "print(x_train.shape)\n",
        "print(len(clases))\n",
        "print(y_train.shape)"
      ],
      "execution_count": 25,
      "outputs": [
        {
          "output_type": "stream",
          "text": [
            "(620, 256, 256, 3)\n",
            "14\n",
            "(620, 14)\n"
          ],
          "name": "stdout"
        }
      ]
    },
    {
      "metadata": {
        "id": "wI4HZ23tf1-Q",
        "colab_type": "code",
        "colab": {}
      },
      "cell_type": "code",
      "source": [
        "datagen = ImageDataGenerator(\n",
        "    rotation_range=20,\n",
        "    shear_range=0.2,\n",
        "    zoom_range=0.2,\n",
        "    horizontal_flip=True,\n",
        "    validation_split=0.2,\n",
        "    fill_mode='nearest'\n",
        ")"
      ],
      "execution_count": 0,
      "outputs": []
    },
    {
      "metadata": {
        "id": "qhNg9eqNgLip",
        "colab_type": "code",
        "outputId": "598d898d-7279-44e9-b999-394bda3da077",
        "colab": {
          "base_uri": "https://localhost:8080/",
          "height": 88
        }
      },
      "cell_type": "code",
      "source": [
        "# create the base pre-trained model\n",
        "base_model = vgg16.VGG16(weights='imagenet',include_top=False, input_shape=(256,256,3))"
      ],
      "execution_count": 27,
      "outputs": [
        {
          "output_type": "stream",
          "text": [
            "WARNING:tensorflow:From /usr/local/lib/python3.6/dist-packages/tensorflow/python/framework/op_def_library.py:263: colocate_with (from tensorflow.python.framework.ops) is deprecated and will be removed in a future version.\n",
            "Instructions for updating:\n",
            "Colocations handled automatically by placer.\n"
          ],
          "name": "stdout"
        }
      ]
    },
    {
      "metadata": {
        "id": "du8Eh-LqkYG8",
        "colab_type": "code",
        "outputId": "260e6b5e-40ae-4a1f-acf6-cd03d3c4592c",
        "colab": {
          "base_uri": "https://localhost:8080/",
          "height": 782
        }
      },
      "cell_type": "code",
      "source": [
        "base_model.summary()"
      ],
      "execution_count": 28,
      "outputs": [
        {
          "output_type": "stream",
          "text": [
            "_________________________________________________________________\n",
            "Layer (type)                 Output Shape              Param #   \n",
            "=================================================================\n",
            "input_1 (InputLayer)         (None, 256, 256, 3)       0         \n",
            "_________________________________________________________________\n",
            "block1_conv1 (Conv2D)        (None, 256, 256, 64)      1792      \n",
            "_________________________________________________________________\n",
            "block1_conv2 (Conv2D)        (None, 256, 256, 64)      36928     \n",
            "_________________________________________________________________\n",
            "block1_pool (MaxPooling2D)   (None, 128, 128, 64)      0         \n",
            "_________________________________________________________________\n",
            "block2_conv1 (Conv2D)        (None, 128, 128, 128)     73856     \n",
            "_________________________________________________________________\n",
            "block2_conv2 (Conv2D)        (None, 128, 128, 128)     147584    \n",
            "_________________________________________________________________\n",
            "block2_pool (MaxPooling2D)   (None, 64, 64, 128)       0         \n",
            "_________________________________________________________________\n",
            "block3_conv1 (Conv2D)        (None, 64, 64, 256)       295168    \n",
            "_________________________________________________________________\n",
            "block3_conv2 (Conv2D)        (None, 64, 64, 256)       590080    \n",
            "_________________________________________________________________\n",
            "block3_conv3 (Conv2D)        (None, 64, 64, 256)       590080    \n",
            "_________________________________________________________________\n",
            "block3_pool (MaxPooling2D)   (None, 32, 32, 256)       0         \n",
            "_________________________________________________________________\n",
            "block4_conv1 (Conv2D)        (None, 32, 32, 512)       1180160   \n",
            "_________________________________________________________________\n",
            "block4_conv2 (Conv2D)        (None, 32, 32, 512)       2359808   \n",
            "_________________________________________________________________\n",
            "block4_conv3 (Conv2D)        (None, 32, 32, 512)       2359808   \n",
            "_________________________________________________________________\n",
            "block4_pool (MaxPooling2D)   (None, 16, 16, 512)       0         \n",
            "_________________________________________________________________\n",
            "block5_conv1 (Conv2D)        (None, 16, 16, 512)       2359808   \n",
            "_________________________________________________________________\n",
            "block5_conv2 (Conv2D)        (None, 16, 16, 512)       2359808   \n",
            "_________________________________________________________________\n",
            "block5_conv3 (Conv2D)        (None, 16, 16, 512)       2359808   \n",
            "_________________________________________________________________\n",
            "block5_pool (MaxPooling2D)   (None, 8, 8, 512)         0         \n",
            "=================================================================\n",
            "Total params: 14,714,688\n",
            "Trainable params: 14,714,688\n",
            "Non-trainable params: 0\n",
            "_________________________________________________________________\n"
          ],
          "name": "stdout"
        }
      ]
    },
    {
      "metadata": {
        "id": "-Y8xutkmkQe2",
        "colab_type": "code",
        "colab": {
          "base_uri": "https://localhost:8080/",
          "height": 88
        },
        "outputId": "718899b9-5463-4603-f550-ede746838b7b"
      },
      "cell_type": "code",
      "source": [
        "x=base_model.output\n",
        "x=Conv2D(512, (8, 8), activation='relu')(x)\n",
        "#x=MaxPooling2D(pool_size=(2, 2))(x)\n",
        "x=Flatten()(x)\n",
        "x=Dense(512,activation='relu')(x) #dense layer 3\n",
        "x=Dropout(rate=0.25)(x)\n",
        "preds=Dense(14,activation='softmax')(x) #final layer with softmax activation\n",
        "\n",
        "model=Model(inputs=base_model.input, outputs=preds)"
      ],
      "execution_count": 29,
      "outputs": [
        {
          "output_type": "stream",
          "text": [
            "WARNING:tensorflow:From /usr/local/lib/python3.6/dist-packages/keras/backend/tensorflow_backend.py:3445: calling dropout (from tensorflow.python.ops.nn_ops) with keep_prob is deprecated and will be removed in a future version.\n",
            "Instructions for updating:\n",
            "Please use `rate` instead of `keep_prob`. Rate should be set to `rate = 1 - keep_prob`.\n"
          ],
          "name": "stdout"
        }
      ]
    },
    {
      "metadata": {
        "id": "iYPSs4WQgi8o",
        "colab_type": "code",
        "outputId": "8defe830-f40e-4038-9284-4a310fc52e61",
        "colab": {
          "base_uri": "https://localhost:8080/",
          "height": 425
        }
      },
      "cell_type": "code",
      "source": [
        "for i,layer in enumerate(model.layers):\n",
        "  print(i,layer.name)"
      ],
      "execution_count": 30,
      "outputs": [
        {
          "output_type": "stream",
          "text": [
            "0 input_1\n",
            "1 block1_conv1\n",
            "2 block1_conv2\n",
            "3 block1_pool\n",
            "4 block2_conv1\n",
            "5 block2_conv2\n",
            "6 block2_pool\n",
            "7 block3_conv1\n",
            "8 block3_conv2\n",
            "9 block3_conv3\n",
            "10 block3_pool\n",
            "11 block4_conv1\n",
            "12 block4_conv2\n",
            "13 block4_conv3\n",
            "14 block4_pool\n",
            "15 block5_conv1\n",
            "16 block5_conv2\n",
            "17 block5_conv3\n",
            "18 block5_pool\n",
            "19 conv2d_1\n",
            "20 flatten_1\n",
            "21 dense_1\n",
            "22 dropout_1\n",
            "23 dense_2\n"
          ],
          "name": "stdout"
        }
      ]
    },
    {
      "metadata": {
        "id": "LlBXWTlah6qN",
        "colab_type": "code",
        "colab": {}
      },
      "cell_type": "code",
      "source": [
        "# first: train only the top layers (which were randomly initialized)\n",
        "# i.e. freeze all convolutional InceptionV3 layers\n",
        "for layer in model.layers[:19]:\n",
        "    layer.trainable=False\n",
        "for layer in model.layers[19:]:\n",
        "    layer.trainable=True\n",
        "\n",
        "# compile the model (should be done *after* setting layers to non-trainable)\n",
        "model.compile(optimizer=Adam(lr=0.001), \n",
        "              loss='categorical_crossentropy', metrics=['accuracy'])"
      ],
      "execution_count": 0,
      "outputs": []
    },
    {
      "metadata": {
        "id": "yMwIUfWoinE2",
        "colab_type": "code",
        "colab": {}
      },
      "cell_type": "code",
      "source": [
        "es = EarlyStopping(monitor='val_loss', mode='min', min_delta=0, patience=15)"
      ],
      "execution_count": 0,
      "outputs": []
    },
    {
      "metadata": {
        "id": "PKYLsn48i2UU",
        "colab_type": "code",
        "outputId": "c3274290-d2f9-4bd5-993a-89b1f0167d88",
        "colab": {
          "base_uri": "https://localhost:8080/",
          "height": 1074
        }
      },
      "cell_type": "code",
      "source": [
        "# compute quantities required for featurewise normalization\n",
        "# (std, mean, and principal components if ZCA whitening is applied)\n",
        "datagen.fit(x_train)\n",
        "\n",
        "\n",
        "# fits the model on batches with real-time data augmentation:\n",
        "model.fit_generator(datagen.flow(x_train, y_train, batch_size=batch_size, subset=\"training\"),\n",
        "                   steps_per_epoch=int(len(x_train)*0.8) / batch_size, epochs=epochs,\n",
        "                   validation_data = datagen.flow(x_train, y_train, batch_size=batch_size, subset='validation'),\n",
        "                   validation_steps = int(len(x_train)*0.2) / batch_size,\n",
        "                   verbose=1, callbacks=[es])\n",
        "\n",
        "model.save(model_name)"
      ],
      "execution_count": 33,
      "outputs": [
        {
          "output_type": "stream",
          "text": [
            "WARNING:tensorflow:From /usr/local/lib/python3.6/dist-packages/tensorflow/python/ops/math_ops.py:3066: to_int32 (from tensorflow.python.ops.math_ops) is deprecated and will be removed in a future version.\n",
            "Instructions for updating:\n",
            "Use tf.cast instead.\n",
            "Epoch 1/1000\n",
            "16/15 [==============================] - 22s 1s/step - loss: 5.3691 - acc: 0.1852 - val_loss: 3.4448 - val_acc: 0.2823\n",
            "Epoch 2/1000\n",
            "16/15 [==============================] - 8s 503ms/step - loss: 2.3239 - acc: 0.4315 - val_loss: 1.2887 - val_acc: 0.6210\n",
            "Epoch 3/1000\n",
            "16/15 [==============================] - 10s 611ms/step - loss: 1.1436 - acc: 0.6327 - val_loss: 0.9866 - val_acc: 0.7581\n",
            "Epoch 4/1000\n",
            "16/15 [==============================] - 10s 652ms/step - loss: 0.7610 - acc: 0.7731 - val_loss: 0.7557 - val_acc: 0.7339\n",
            "Epoch 5/1000\n",
            "16/15 [==============================] - 10s 643ms/step - loss: 0.6404 - acc: 0.7887 - val_loss: 0.7038 - val_acc: 0.7661\n",
            "Epoch 6/1000\n",
            "16/15 [==============================] - 10s 647ms/step - loss: 0.5375 - acc: 0.8125 - val_loss: 0.6507 - val_acc: 0.7742\n",
            "Epoch 7/1000\n",
            "16/15 [==============================] - 10s 647ms/step - loss: 0.5012 - acc: 0.8419 - val_loss: 0.6195 - val_acc: 0.7742\n",
            "Epoch 8/1000\n",
            "16/15 [==============================] - 10s 652ms/step - loss: 0.4283 - acc: 0.8595 - val_loss: 0.5522 - val_acc: 0.8145\n",
            "Epoch 9/1000\n",
            "16/15 [==============================] - 10s 650ms/step - loss: 0.3350 - acc: 0.8828 - val_loss: 0.5153 - val_acc: 0.8629\n",
            "Epoch 10/1000\n",
            "16/15 [==============================] - 10s 645ms/step - loss: 0.3949 - acc: 0.8771 - val_loss: 0.4200 - val_acc: 0.8468\n",
            "Epoch 11/1000\n",
            "16/15 [==============================] - 10s 651ms/step - loss: 0.2738 - acc: 0.9178 - val_loss: 0.4513 - val_acc: 0.8387\n",
            "Epoch 12/1000\n",
            "16/15 [==============================] - 10s 650ms/step - loss: 0.2412 - acc: 0.9100 - val_loss: 0.4533 - val_acc: 0.8468\n",
            "Epoch 13/1000\n",
            "16/15 [==============================] - 10s 648ms/step - loss: 0.3153 - acc: 0.9025 - val_loss: 0.5855 - val_acc: 0.7823\n",
            "Epoch 14/1000\n",
            "16/15 [==============================] - 10s 646ms/step - loss: 0.2141 - acc: 0.9375 - val_loss: 0.3236 - val_acc: 0.8952\n",
            "Epoch 15/1000\n",
            "16/15 [==============================] - 10s 644ms/step - loss: 0.1847 - acc: 0.9452 - val_loss: 0.4796 - val_acc: 0.8790\n",
            "Epoch 16/1000\n",
            "16/15 [==============================] - 10s 648ms/step - loss: 0.1527 - acc: 0.9569 - val_loss: 0.3897 - val_acc: 0.9032\n",
            "Epoch 17/1000\n",
            "16/15 [==============================] - 10s 643ms/step - loss: 0.1469 - acc: 0.9474 - val_loss: 0.4990 - val_acc: 0.8145\n",
            "Epoch 18/1000\n",
            "16/15 [==============================] - 10s 649ms/step - loss: 0.1263 - acc: 0.9628 - val_loss: 0.5161 - val_acc: 0.8226\n",
            "Epoch 19/1000\n",
            "16/15 [==============================] - 10s 652ms/step - loss: 0.1717 - acc: 0.9357 - val_loss: 0.3418 - val_acc: 0.8952\n",
            "Epoch 20/1000\n",
            "16/15 [==============================] - 10s 650ms/step - loss: 0.1553 - acc: 0.9492 - val_loss: 0.4352 - val_acc: 0.8790\n",
            "Epoch 21/1000\n",
            "16/15 [==============================] - 10s 647ms/step - loss: 0.1055 - acc: 0.9708 - val_loss: 0.4702 - val_acc: 0.7984\n",
            "Epoch 22/1000\n",
            "16/15 [==============================] - 11s 658ms/step - loss: 0.1160 - acc: 0.9550 - val_loss: 0.6652 - val_acc: 0.8468\n",
            "Epoch 23/1000\n",
            "16/15 [==============================] - 10s 647ms/step - loss: 0.1280 - acc: 0.9571 - val_loss: 0.3738 - val_acc: 0.9032\n",
            "Epoch 24/1000\n",
            "16/15 [==============================] - 10s 651ms/step - loss: 0.1038 - acc: 0.9669 - val_loss: 0.5999 - val_acc: 0.8548\n",
            "Epoch 25/1000\n",
            "16/15 [==============================] - 10s 646ms/step - loss: 0.0906 - acc: 0.9747 - val_loss: 0.4762 - val_acc: 0.8387\n",
            "Epoch 26/1000\n",
            "16/15 [==============================] - 10s 651ms/step - loss: 0.1285 - acc: 0.9491 - val_loss: 0.4983 - val_acc: 0.8468\n",
            "Epoch 27/1000\n",
            "16/15 [==============================] - 10s 641ms/step - loss: 0.1142 - acc: 0.9628 - val_loss: 0.3495 - val_acc: 0.8790\n",
            "Epoch 28/1000\n",
            "16/15 [==============================] - 10s 639ms/step - loss: 0.0880 - acc: 0.9706 - val_loss: 0.3441 - val_acc: 0.8952\n",
            "Epoch 29/1000\n",
            "16/15 [==============================] - 10s 644ms/step - loss: 0.0966 - acc: 0.9628 - val_loss: 0.5232 - val_acc: 0.8790\n"
          ],
          "name": "stdout"
        }
      ]
    },
    {
      "metadata": {
        "id": "zJqyqluISfEe",
        "colab_type": "code",
        "outputId": "caa99b1e-c198-4b0f-8cb6-7f3836199b8a",
        "colab": {
          "base_uri": "https://localhost:8080/",
          "height": 34
        }
      },
      "cell_type": "code",
      "source": [
        "predictions_test = model.predict(x_test, verbose=1)\n",
        "\n",
        "data = pd.DataFrame()\n",
        "data['Id'] = test_files\n",
        "data['Category'] = predictions_test.argmax(axis=-1)\n",
        "\n",
        "\n",
        "data.to_csv(\"envio.csv\", index=False)"
      ],
      "execution_count": 34,
      "outputs": [
        {
          "output_type": "stream",
          "text": [
            "146/146 [==============================] - 4s 29ms/step\n"
          ],
          "name": "stdout"
        }
      ]
    },
    {
      "metadata": {
        "id": "62v--Nc3HJpa",
        "colab_type": "code",
        "outputId": "f57dd21f-a24c-4545-cad9-58cb1020301d",
        "colab": {
          "base_uri": "https://localhost:8080/",
          "height": 34
        }
      },
      "cell_type": "code",
      "source": [
        "conversion = {\n",
        "    'a': 0,\n",
        "    'b': 1,\n",
        "    'c': 2,\n",
        "    'd': 3,\n",
        "    'e': 4,\n",
        "    'f': 5,\n",
        "    'g': 6,\n",
        "    'h': 7,\n",
        "    'i': 8,\n",
        "    'j': 9,\n",
        "    'k': 10,\n",
        "    'l': 11,\n",
        "    'm': 12,\n",
        "    'n': 13\n",
        "}\n",
        "classes = []\n",
        "for t in test_files:\n",
        "  class_ = t.split(\"T\")[0]\n",
        "  classes.append(conversion[class_])\n",
        "\n",
        "from sklearn.metrics import accuracy_score\n",
        "print(accuracy_score(classes, data['Category']))"
      ],
      "execution_count": 35,
      "outputs": [
        {
          "output_type": "stream",
          "text": [
            "0.8424657534246576\n"
          ],
          "name": "stdout"
        }
      ]
    }
  ]
}